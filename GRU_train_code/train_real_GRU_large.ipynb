{
  "cells": [
    {
      "cell_type": "code",
      "execution_count": 1,
      "metadata": {
        "colab": {
          "base_uri": "https://localhost:8080/"
        },
        "id": "6s_abCogGeva",
        "outputId": "c309bf83-2998-4f35-8022-87e9a1e59deb"
      },
      "outputs": [
        {
          "output_type": "stream",
          "name": "stderr",
          "text": [
            "[nltk_data] Downloading package punkt to /root/nltk_data...\n",
            "[nltk_data]   Unzipping tokenizers/punkt.zip.\n",
            "[nltk_data] Downloading package punkt_tab to /root/nltk_data...\n",
            "[nltk_data]   Unzipping tokenizers/punkt_tab.zip.\n"
          ]
        },
        {
          "output_type": "execute_result",
          "data": {
            "text/plain": [
              "True"
            ]
          },
          "metadata": {},
          "execution_count": 1
        }
      ],
      "source": [
        "import nltk\n",
        "nltk.download('punkt')\n",
        "nltk.download('punkt_tab')"
      ]
    },
    {
      "cell_type": "code",
      "execution_count": 2,
      "metadata": {
        "id": "Nohs7BBwbk5V"
      },
      "outputs": [],
      "source": [
        "import pandas as pd\n",
        "import matplotlib.pyplot as plt\n",
        "import seaborn as sns\n",
        "import torch\n",
        "import torch.nn as nn\n",
        "from sklearn.model_selection import train_test_split\n",
        "from torch.utils.data import DataLoader, Dataset\n",
        "from torch.nn.utils.rnn import pad_sequence\n",
        "from collections import Counter\n",
        "from nltk.tokenize import word_tokenize\n",
        "import numpy as np\n",
        "from sklearn.metrics import precision_score, recall_score, f1_score, accuracy_score, confusion_matrix"
      ]
    },
    {
      "cell_type": "code",
      "execution_count": 3,
      "metadata": {
        "colab": {
          "base_uri": "https://localhost:8080/"
        },
        "id": "4-9Djmmb_LUj",
        "outputId": "459f87c3-7f46-4759-9ceb-5f40a7d915af"
      },
      "outputs": [
        {
          "output_type": "stream",
          "name": "stdout",
          "text": [
            "Mounted at /content/drive\n"
          ]
        }
      ],
      "source": [
        "from google.colab import drive\n",
        "drive.mount('/content/drive')\n",
        "file_path = '/content/drive/MyDrive/684folder/processed_real_data_large.csv'"
      ]
    },
    {
      "cell_type": "markdown",
      "metadata": {
        "id": "vspX2M4WHq3x"
      },
      "source": [
        "## Data Preparation"
      ]
    },
    {
      "cell_type": "code",
      "execution_count": 4,
      "metadata": {
        "colab": {
          "base_uri": "https://localhost:8080/",
          "height": 206
        },
        "id": "bbFIBZ6RG9K1",
        "outputId": "24bc13de-8d3d-41ba-9121-3c3e625a7edf"
      },
      "outputs": [
        {
          "output_type": "execute_result",
          "data": {
            "text/plain": [
              "   Unnamed: 0  Age                                        Review Text  Rating  \\\n",
              "0           0   37  a great little dress that can be dressed up or...       5   \n",
              "1           1   44  i found this in store last weekend and thought...       5   \n",
              "2           2   32  i bought one of these as a gift for a friend a...       5   \n",
              "3           3   54  i love this tunic, the detail the weight, the ...       4   \n",
              "4           4   58  i got this in the color listed as pink. it is ...       5   \n",
              "\n",
              "   Recommended IND  Positive Feedback Count  \n",
              "0                1                        0  \n",
              "1                1                        8  \n",
              "2                1                        0  \n",
              "3                1                        2  \n",
              "4                1                        3  "
            ],
            "text/html": [
              "\n",
              "  <div id=\"df-4c974070-271c-4de3-8905-fe428d850530\" class=\"colab-df-container\">\n",
              "    <div>\n",
              "<style scoped>\n",
              "    .dataframe tbody tr th:only-of-type {\n",
              "        vertical-align: middle;\n",
              "    }\n",
              "\n",
              "    .dataframe tbody tr th {\n",
              "        vertical-align: top;\n",
              "    }\n",
              "\n",
              "    .dataframe thead th {\n",
              "        text-align: right;\n",
              "    }\n",
              "</style>\n",
              "<table border=\"1\" class=\"dataframe\">\n",
              "  <thead>\n",
              "    <tr style=\"text-align: right;\">\n",
              "      <th></th>\n",
              "      <th>Unnamed: 0</th>\n",
              "      <th>Age</th>\n",
              "      <th>Review Text</th>\n",
              "      <th>Rating</th>\n",
              "      <th>Recommended IND</th>\n",
              "      <th>Positive Feedback Count</th>\n",
              "    </tr>\n",
              "  </thead>\n",
              "  <tbody>\n",
              "    <tr>\n",
              "      <th>0</th>\n",
              "      <td>0</td>\n",
              "      <td>37</td>\n",
              "      <td>a great little dress that can be dressed up or...</td>\n",
              "      <td>5</td>\n",
              "      <td>1</td>\n",
              "      <td>0</td>\n",
              "    </tr>\n",
              "    <tr>\n",
              "      <th>1</th>\n",
              "      <td>1</td>\n",
              "      <td>44</td>\n",
              "      <td>i found this in store last weekend and thought...</td>\n",
              "      <td>5</td>\n",
              "      <td>1</td>\n",
              "      <td>8</td>\n",
              "    </tr>\n",
              "    <tr>\n",
              "      <th>2</th>\n",
              "      <td>2</td>\n",
              "      <td>32</td>\n",
              "      <td>i bought one of these as a gift for a friend a...</td>\n",
              "      <td>5</td>\n",
              "      <td>1</td>\n",
              "      <td>0</td>\n",
              "    </tr>\n",
              "    <tr>\n",
              "      <th>3</th>\n",
              "      <td>3</td>\n",
              "      <td>54</td>\n",
              "      <td>i love this tunic, the detail the weight, the ...</td>\n",
              "      <td>4</td>\n",
              "      <td>1</td>\n",
              "      <td>2</td>\n",
              "    </tr>\n",
              "    <tr>\n",
              "      <th>4</th>\n",
              "      <td>4</td>\n",
              "      <td>58</td>\n",
              "      <td>i got this in the color listed as pink. it is ...</td>\n",
              "      <td>5</td>\n",
              "      <td>1</td>\n",
              "      <td>3</td>\n",
              "    </tr>\n",
              "  </tbody>\n",
              "</table>\n",
              "</div>\n",
              "    <div class=\"colab-df-buttons\">\n",
              "\n",
              "  <div class=\"colab-df-container\">\n",
              "    <button class=\"colab-df-convert\" onclick=\"convertToInteractive('df-4c974070-271c-4de3-8905-fe428d850530')\"\n",
              "            title=\"Convert this dataframe to an interactive table.\"\n",
              "            style=\"display:none;\">\n",
              "\n",
              "  <svg xmlns=\"http://www.w3.org/2000/svg\" height=\"24px\" viewBox=\"0 -960 960 960\">\n",
              "    <path d=\"M120-120v-720h720v720H120Zm60-500h600v-160H180v160Zm220 220h160v-160H400v160Zm0 220h160v-160H400v160ZM180-400h160v-160H180v160Zm440 0h160v-160H620v160ZM180-180h160v-160H180v160Zm440 0h160v-160H620v160Z\"/>\n",
              "  </svg>\n",
              "    </button>\n",
              "\n",
              "  <style>\n",
              "    .colab-df-container {\n",
              "      display:flex;\n",
              "      gap: 12px;\n",
              "    }\n",
              "\n",
              "    .colab-df-convert {\n",
              "      background-color: #E8F0FE;\n",
              "      border: none;\n",
              "      border-radius: 50%;\n",
              "      cursor: pointer;\n",
              "      display: none;\n",
              "      fill: #1967D2;\n",
              "      height: 32px;\n",
              "      padding: 0 0 0 0;\n",
              "      width: 32px;\n",
              "    }\n",
              "\n",
              "    .colab-df-convert:hover {\n",
              "      background-color: #E2EBFA;\n",
              "      box-shadow: 0px 1px 2px rgba(60, 64, 67, 0.3), 0px 1px 3px 1px rgba(60, 64, 67, 0.15);\n",
              "      fill: #174EA6;\n",
              "    }\n",
              "\n",
              "    .colab-df-buttons div {\n",
              "      margin-bottom: 4px;\n",
              "    }\n",
              "\n",
              "    [theme=dark] .colab-df-convert {\n",
              "      background-color: #3B4455;\n",
              "      fill: #D2E3FC;\n",
              "    }\n",
              "\n",
              "    [theme=dark] .colab-df-convert:hover {\n",
              "      background-color: #434B5C;\n",
              "      box-shadow: 0px 1px 3px 1px rgba(0, 0, 0, 0.15);\n",
              "      filter: drop-shadow(0px 1px 2px rgba(0, 0, 0, 0.3));\n",
              "      fill: #FFFFFF;\n",
              "    }\n",
              "  </style>\n",
              "\n",
              "    <script>\n",
              "      const buttonEl =\n",
              "        document.querySelector('#df-4c974070-271c-4de3-8905-fe428d850530 button.colab-df-convert');\n",
              "      buttonEl.style.display =\n",
              "        google.colab.kernel.accessAllowed ? 'block' : 'none';\n",
              "\n",
              "      async function convertToInteractive(key) {\n",
              "        const element = document.querySelector('#df-4c974070-271c-4de3-8905-fe428d850530');\n",
              "        const dataTable =\n",
              "          await google.colab.kernel.invokeFunction('convertToInteractive',\n",
              "                                                    [key], {});\n",
              "        if (!dataTable) return;\n",
              "\n",
              "        const docLinkHtml = 'Like what you see? Visit the ' +\n",
              "          '<a target=\"_blank\" href=https://colab.research.google.com/notebooks/data_table.ipynb>data table notebook</a>'\n",
              "          + ' to learn more about interactive tables.';\n",
              "        element.innerHTML = '';\n",
              "        dataTable['output_type'] = 'display_data';\n",
              "        await google.colab.output.renderOutput(dataTable, element);\n",
              "        const docLink = document.createElement('div');\n",
              "        docLink.innerHTML = docLinkHtml;\n",
              "        element.appendChild(docLink);\n",
              "      }\n",
              "    </script>\n",
              "  </div>\n",
              "\n",
              "\n",
              "<div id=\"df-57f186fe-e724-4eed-b3bd-2b49fe970604\">\n",
              "  <button class=\"colab-df-quickchart\" onclick=\"quickchart('df-57f186fe-e724-4eed-b3bd-2b49fe970604')\"\n",
              "            title=\"Suggest charts\"\n",
              "            style=\"display:none;\">\n",
              "\n",
              "<svg xmlns=\"http://www.w3.org/2000/svg\" height=\"24px\"viewBox=\"0 0 24 24\"\n",
              "     width=\"24px\">\n",
              "    <g>\n",
              "        <path d=\"M19 3H5c-1.1 0-2 .9-2 2v14c0 1.1.9 2 2 2h14c1.1 0 2-.9 2-2V5c0-1.1-.9-2-2-2zM9 17H7v-7h2v7zm4 0h-2V7h2v10zm4 0h-2v-4h2v4z\"/>\n",
              "    </g>\n",
              "</svg>\n",
              "  </button>\n",
              "\n",
              "<style>\n",
              "  .colab-df-quickchart {\n",
              "      --bg-color: #E8F0FE;\n",
              "      --fill-color: #1967D2;\n",
              "      --hover-bg-color: #E2EBFA;\n",
              "      --hover-fill-color: #174EA6;\n",
              "      --disabled-fill-color: #AAA;\n",
              "      --disabled-bg-color: #DDD;\n",
              "  }\n",
              "\n",
              "  [theme=dark] .colab-df-quickchart {\n",
              "      --bg-color: #3B4455;\n",
              "      --fill-color: #D2E3FC;\n",
              "      --hover-bg-color: #434B5C;\n",
              "      --hover-fill-color: #FFFFFF;\n",
              "      --disabled-bg-color: #3B4455;\n",
              "      --disabled-fill-color: #666;\n",
              "  }\n",
              "\n",
              "  .colab-df-quickchart {\n",
              "    background-color: var(--bg-color);\n",
              "    border: none;\n",
              "    border-radius: 50%;\n",
              "    cursor: pointer;\n",
              "    display: none;\n",
              "    fill: var(--fill-color);\n",
              "    height: 32px;\n",
              "    padding: 0;\n",
              "    width: 32px;\n",
              "  }\n",
              "\n",
              "  .colab-df-quickchart:hover {\n",
              "    background-color: var(--hover-bg-color);\n",
              "    box-shadow: 0 1px 2px rgba(60, 64, 67, 0.3), 0 1px 3px 1px rgba(60, 64, 67, 0.15);\n",
              "    fill: var(--button-hover-fill-color);\n",
              "  }\n",
              "\n",
              "  .colab-df-quickchart-complete:disabled,\n",
              "  .colab-df-quickchart-complete:disabled:hover {\n",
              "    background-color: var(--disabled-bg-color);\n",
              "    fill: var(--disabled-fill-color);\n",
              "    box-shadow: none;\n",
              "  }\n",
              "\n",
              "  .colab-df-spinner {\n",
              "    border: 2px solid var(--fill-color);\n",
              "    border-color: transparent;\n",
              "    border-bottom-color: var(--fill-color);\n",
              "    animation:\n",
              "      spin 1s steps(1) infinite;\n",
              "  }\n",
              "\n",
              "  @keyframes spin {\n",
              "    0% {\n",
              "      border-color: transparent;\n",
              "      border-bottom-color: var(--fill-color);\n",
              "      border-left-color: var(--fill-color);\n",
              "    }\n",
              "    20% {\n",
              "      border-color: transparent;\n",
              "      border-left-color: var(--fill-color);\n",
              "      border-top-color: var(--fill-color);\n",
              "    }\n",
              "    30% {\n",
              "      border-color: transparent;\n",
              "      border-left-color: var(--fill-color);\n",
              "      border-top-color: var(--fill-color);\n",
              "      border-right-color: var(--fill-color);\n",
              "    }\n",
              "    40% {\n",
              "      border-color: transparent;\n",
              "      border-right-color: var(--fill-color);\n",
              "      border-top-color: var(--fill-color);\n",
              "    }\n",
              "    60% {\n",
              "      border-color: transparent;\n",
              "      border-right-color: var(--fill-color);\n",
              "    }\n",
              "    80% {\n",
              "      border-color: transparent;\n",
              "      border-right-color: var(--fill-color);\n",
              "      border-bottom-color: var(--fill-color);\n",
              "    }\n",
              "    90% {\n",
              "      border-color: transparent;\n",
              "      border-bottom-color: var(--fill-color);\n",
              "    }\n",
              "  }\n",
              "</style>\n",
              "\n",
              "  <script>\n",
              "    async function quickchart(key) {\n",
              "      const quickchartButtonEl =\n",
              "        document.querySelector('#' + key + ' button');\n",
              "      quickchartButtonEl.disabled = true;  // To prevent multiple clicks.\n",
              "      quickchartButtonEl.classList.add('colab-df-spinner');\n",
              "      try {\n",
              "        const charts = await google.colab.kernel.invokeFunction(\n",
              "            'suggestCharts', [key], {});\n",
              "      } catch (error) {\n",
              "        console.error('Error during call to suggestCharts:', error);\n",
              "      }\n",
              "      quickchartButtonEl.classList.remove('colab-df-spinner');\n",
              "      quickchartButtonEl.classList.add('colab-df-quickchart-complete');\n",
              "    }\n",
              "    (() => {\n",
              "      let quickchartButtonEl =\n",
              "        document.querySelector('#df-57f186fe-e724-4eed-b3bd-2b49fe970604 button');\n",
              "      quickchartButtonEl.style.display =\n",
              "        google.colab.kernel.accessAllowed ? 'block' : 'none';\n",
              "    })();\n",
              "  </script>\n",
              "</div>\n",
              "\n",
              "    </div>\n",
              "  </div>\n"
            ],
            "application/vnd.google.colaboratory.intrinsic+json": {
              "type": "dataframe",
              "variable_name": "data",
              "summary": "{\n  \"name\": \"data\",\n  \"rows\": 10000,\n  \"fields\": [\n    {\n      \"column\": \"Unnamed: 0\",\n      \"properties\": {\n        \"dtype\": \"number\",\n        \"std\": 2886,\n        \"min\": 0,\n        \"max\": 9999,\n        \"num_unique_values\": 10000,\n        \"samples\": [\n          6252,\n          4684,\n          1731\n        ],\n        \"semantic_type\": \"\",\n        \"description\": \"\"\n      }\n    },\n    {\n      \"column\": \"Age\",\n      \"properties\": {\n        \"dtype\": \"number\",\n        \"std\": 12,\n        \"min\": 19,\n        \"max\": 94,\n        \"num_unique_values\": 71,\n        \"samples\": [\n          35,\n          37,\n          30\n        ],\n        \"semantic_type\": \"\",\n        \"description\": \"\"\n      }\n    },\n    {\n      \"column\": \"Review Text\",\n      \"properties\": {\n        \"dtype\": \"string\",\n        \"num_unique_values\": 9997,\n        \"samples\": [\n          \"the sleeves were very tight in the upper arm area but the body was blousy, too blousy so to go up a size for the arms would mean it would be very oversized in the body. i like the fabric nice and thick but it did not work for me.\",\n          \"this top was a big disappointment. i ordered two of the grey motif with the print of the forest animals in size 16. neither of them fit well, but one was cut much smaller than the other. i have had this problem with all of the numericallysized buttondown style of maeve tops. i do not understand why in size 14  16, this keeps happening. that is why i purchase two of each. usually one fits and the other does not. this time, unfortunately, neither worked. they both were too tight in the armsshoulders\",\n          \"i bought this top in lavender. this top is light and smooth on your body and true to size. i am 54, 34dd, 150 lbs m fits well. it hides the imperfections in the tummy area and i find myself going for this top a lot. it is a very easy to put on and take to it off.\"\n        ],\n        \"semantic_type\": \"\",\n        \"description\": \"\"\n      }\n    },\n    {\n      \"column\": \"Rating\",\n      \"properties\": {\n        \"dtype\": \"number\",\n        \"std\": 1,\n        \"min\": 1,\n        \"max\": 5,\n        \"num_unique_values\": 5,\n        \"samples\": [\n          4,\n          3,\n          2\n        ],\n        \"semantic_type\": \"\",\n        \"description\": \"\"\n      }\n    },\n    {\n      \"column\": \"Recommended IND\",\n      \"properties\": {\n        \"dtype\": \"number\",\n        \"std\": 0,\n        \"min\": 0,\n        \"max\": 1,\n        \"num_unique_values\": 2,\n        \"samples\": [\n          0,\n          1\n        ],\n        \"semantic_type\": \"\",\n        \"description\": \"\"\n      }\n    },\n    {\n      \"column\": \"Positive Feedback Count\",\n      \"properties\": {\n        \"dtype\": \"number\",\n        \"std\": 6,\n        \"min\": 0,\n        \"max\": 122,\n        \"num_unique_values\": 65,\n        \"samples\": [\n          95,\n          57\n        ],\n        \"semantic_type\": \"\",\n        \"description\": \"\"\n      }\n    }\n  ]\n}"
            }
          },
          "metadata": {},
          "execution_count": 4
        }
      ],
      "source": [
        "# data = pd.read_csv(\"synthetic_reviews.csv\")\n",
        "data = pd.read_csv(file_path)\n",
        "data.head()"
      ]
    },
    {
      "cell_type": "markdown",
      "metadata": {
        "id": "CtDSGeNFN6nW"
      },
      "source": [
        "Distribution of recommended IND, ratings and age."
      ]
    },
    {
      "cell_type": "code",
      "execution_count": 5,
      "metadata": {
        "colab": {
          "base_uri": "https://localhost:8080/",
          "height": 410
        },
        "id": "PDHIqY6cNjZJ",
        "outputId": "8f304a88-6df6-4054-ea39-16b3d4688aa9"
      },
      "outputs": [
        {
          "output_type": "display_data",
          "data": {
            "text/plain": [
              "<Figure size 800x400 with 1 Axes>"
            ],
            "image/png": "[encoded data removed]"
          },
          "metadata": {}
        }
      ],
      "source": [
        "plt.figure(figsize=(8, 4))\n",
        "sns.countplot(data=data, x=\"Recommended IND\", hue=\"Recommended IND\", palette=\"viridis\", dodge=False, legend=False)\n",
        "plt.title(\"Distribution of Recommended IND\")\n",
        "plt.xlabel(\"Recommended IND (0: Not Recommended, 1: Recommended)\")\n",
        "plt.ylabel(\"Count\")\n",
        "plt.show()"
      ]
    },
    {
      "cell_type": "code",
      "execution_count": 6,
      "metadata": {
        "colab": {
          "base_uri": "https://localhost:8080/",
          "height": 410
        },
        "id": "C5b9AcKqN5BR",
        "outputId": "ade9178d-6a2d-490b-ccd6-8851047500f3"
      },
      "outputs": [
        {
          "output_type": "display_data",
          "data": {
            "text/plain": [
              "<Figure size 800x400 with 1 Axes>"
            ],
            "image/png": "[encoded data removed]"
          },
          "metadata": {}
        }
      ],
      "source": [
        "plt.figure(figsize=(8, 4))\n",
        "sns.countplot(data=data, x=\"Rating\", hue=\"Rating\", palette=\"viridis\", dodge=False, legend=False)\n",
        "plt.title(\"Distribution of Ratings\")\n",
        "plt.xlabel(\"Rating (1 to 5)\")\n",
        "plt.ylabel(\"Count\")\n",
        "plt.show()"
      ]
    },
    {
      "cell_type": "code",
      "execution_count": 7,
      "metadata": {
        "colab": {
          "base_uri": "https://localhost:8080/",
          "height": 452
        },
        "id": "b5qnNKQtAqrQ",
        "outputId": "f9a5e048-b981-4324-e0cb-f5a249b7b3cc"
      },
      "outputs": [
        {
          "output_type": "display_data",
          "data": {
            "text/plain": [
              "<Figure size 640x480 with 1 Axes>"
            ],
            "image/png": "[encoded data removed]"
          },
          "metadata": {}
        }
      ],
      "source": [
        "data['Age'].plot(kind='hist', bins=20, title='Age')\n",
        "plt.gca().spines[['top', 'right',]].set_visible(False)"
      ]
    },
    {
      "cell_type": "markdown",
      "metadata": {
        "id": "YK8gUjy3OtnP"
      },
      "source": [
        "Prepare input-review texts and output-recommended IND for model to train."
      ]
    },
    {
      "cell_type": "code",
      "execution_count": 8,
      "metadata": {
        "colab": {
          "base_uri": "https://localhost:8080/",
          "height": 206
        },
        "id": "n9vzSEoTOm7N",
        "outputId": "70bccf65-1b93-4032-9208-9bf156041aec"
      },
      "outputs": [
        {
          "output_type": "execute_result",
          "data": {
            "text/plain": [
              "                                         Review Text  Recommended IND\n",
              "0  a great little dress that can be dressed up or...                1\n",
              "1  i found this in store last weekend and thought...                1\n",
              "2  i bought one of these as a gift for a friend a...                1\n",
              "3  i love this tunic, the detail the weight, the ...                1\n",
              "4  i got this in the color listed as pink. it is ...                1"
            ],
            "text/html": [
              "\n",
              "  <div id=\"df-b9e9c1f9-5123-477b-9472-85477fea7282\" class=\"colab-df-container\">\n",
              "    <div>\n",
              "<style scoped>\n",
              "    .dataframe tbody tr th:only-of-type {\n",
              "        vertical-align: middle;\n",
              "    }\n",
              "\n",
              "    .dataframe tbody tr th {\n",
              "        vertical-align: top;\n",
              "    }\n",
              "\n",
              "    .dataframe thead th {\n",
              "        text-align: right;\n",
              "    }\n",
              "</style>\n",
              "<table border=\"1\" class=\"dataframe\">\n",
              "  <thead>\n",
              "    <tr style=\"text-align: right;\">\n",
              "      <th></th>\n",
              "      <th>Review Text</th>\n",
              "      <th>Recommended IND</th>\n",
              "    </tr>\n",
              "  </thead>\n",
              "  <tbody>\n",
              "    <tr>\n",
              "      <th>0</th>\n",
              "      <td>a great little dress that can be dressed up or...</td>\n",
              "      <td>1</td>\n",
              "    </tr>\n",
              "    <tr>\n",
              "      <th>1</th>\n",
              "      <td>i found this in store last weekend and thought...</td>\n",
              "      <td>1</td>\n",
              "    </tr>\n",
              "    <tr>\n",
              "      <th>2</th>\n",
              "      <td>i bought one of these as a gift for a friend a...</td>\n",
              "      <td>1</td>\n",
              "    </tr>\n",
              "    <tr>\n",
              "      <th>3</th>\n",
              "      <td>i love this tunic, the detail the weight, the ...</td>\n",
              "      <td>1</td>\n",
              "    </tr>\n",
              "    <tr>\n",
              "      <th>4</th>\n",
              "      <td>i got this in the color listed as pink. it is ...</td>\n",
              "      <td>1</td>\n",
              "    </tr>\n",
              "  </tbody>\n",
              "</table>\n",
              "</div>\n",
              "    <div class=\"colab-df-buttons\">\n",
              "\n",
              "  <div class=\"colab-df-container\">\n",
              "    <button class=\"colab-df-convert\" onclick=\"convertToInteractive('df-b9e9c1f9-5123-477b-9472-85477fea7282')\"\n",
              "            title=\"Convert this dataframe to an interactive table.\"\n",
              "            style=\"display:none;\">\n",
              "\n",
              "  <svg xmlns=\"http://www.w3.org/2000/svg\" height=\"24px\" viewBox=\"0 -960 960 960\">\n",
              "    <path d=\"M120-120v-720h720v720H120Zm60-500h600v-160H180v160Zm220 220h160v-160H400v160Zm0 220h160v-160H400v160ZM180-400h160v-160H180v160Zm440 0h160v-160H620v160ZM180-180h160v-160H180v160Zm440 0h160v-160H620v160Z\"/>\n",
              "  </svg>\n",
              "    </button>\n",
              "\n",
              "  <style>\n",
              "    .colab-df-container {\n",
              "      display:flex;\n",
              "      gap: 12px;\n",
              "    }\n",
              "\n",
              "    .colab-df-convert {\n",
              "      background-color: #E8F0FE;\n",
              "      border: none;\n",
              "      border-radius: 50%;\n",
              "      cursor: pointer;\n",
              "      display: none;\n",
              "      fill: #1967D2;\n",
              "      height: 32px;\n",
              "      padding: 0 0 0 0;\n",
              "      width: 32px;\n",
              "    }\n",
              "\n",
              "    .colab-df-convert:hover {\n",
              "      background-color: #E2EBFA;\n",
              "      box-shadow: 0px 1px 2px rgba(60, 64, 67, 0.3), 0px 1px 3px 1px rgba(60, 64, 67, 0.15);\n",
              "      fill: #174EA6;\n",
              "    }\n",
              "\n",
              "    .colab-df-buttons div {\n",
              "      margin-bottom: 4px;\n",
              "    }\n",
              "\n",
              "    [theme=dark] .colab-df-convert {\n",
              "      background-color: #3B4455;\n",
              "      fill: #D2E3FC;\n",
              "    }\n",
              "\n",
              "    [theme=dark] .colab-df-convert:hover {\n",
              "      background-color: #434B5C;\n",
              "      box-shadow: 0px 1px 3px 1px rgba(0, 0, 0, 0.15);\n",
              "      filter: drop-shadow(0px 1px 2px rgba(0, 0, 0, 0.3));\n",
              "      fill: #FFFFFF;\n",
              "    }\n",
              "  </style>\n",
              "\n",
              "    <script>\n",
              "      const buttonEl =\n",
              "        document.querySelector('#df-b9e9c1f9-5123-477b-9472-85477fea7282 button.colab-df-convert');\n",
              "      buttonEl.style.display =\n",
              "        google.colab.kernel.accessAllowed ? 'block' : 'none';\n",
              "\n",
              "      async function convertToInteractive(key) {\n",
              "        const element = document.querySelector('#df-b9e9c1f9-5123-477b-9472-85477fea7282');\n",
              "        const dataTable =\n",
              "          await google.colab.kernel.invokeFunction('convertToInteractive',\n",
              "                                                    [key], {});\n",
              "        if (!dataTable) return;\n",
              "\n",
              "        const docLinkHtml = 'Like what you see? Visit the ' +\n",
              "          '<a target=\"_blank\" href=https://colab.research.google.com/notebooks/data_table.ipynb>data table notebook</a>'\n",
              "          + ' to learn more about interactive tables.';\n",
              "        element.innerHTML = '';\n",
              "        dataTable['output_type'] = 'display_data';\n",
              "        await google.colab.output.renderOutput(dataTable, element);\n",
              "        const docLink = document.createElement('div');\n",
              "        docLink.innerHTML = docLinkHtml;\n",
              "        element.appendChild(docLink);\n",
              "      }\n",
              "    </script>\n",
              "  </div>\n",
              "\n",
              "\n",
              "<div id=\"df-36a1f5ef-ea96-49ee-a511-3000d2a6003a\">\n",
              "  <button class=\"colab-df-quickchart\" onclick=\"quickchart('df-36a1f5ef-ea96-49ee-a511-3000d2a6003a')\"\n",
              "            title=\"Suggest charts\"\n",
              "            style=\"display:none;\">\n",
              "\n",
              "<svg xmlns=\"http://www.w3.org/2000/svg\" height=\"24px\"viewBox=\"0 0 24 24\"\n",
              "     width=\"24px\">\n",
              "    <g>\n",
              "        <path d=\"M19 3H5c-1.1 0-2 .9-2 2v14c0 1.1.9 2 2 2h14c1.1 0 2-.9 2-2V5c0-1.1-.9-2-2-2zM9 17H7v-7h2v7zm4 0h-2V7h2v10zm4 0h-2v-4h2v4z\"/>\n",
              "    </g>\n",
              "</svg>\n",
              "  </button>\n",
              "\n",
              "<style>\n",
              "  .colab-df-quickchart {\n",
              "      --bg-color: #E8F0FE;\n",
              "      --fill-color: #1967D2;\n",
              "      --hover-bg-color: #E2EBFA;\n",
              "      --hover-fill-color: #174EA6;\n",
              "      --disabled-fill-color: #AAA;\n",
              "      --disabled-bg-color: #DDD;\n",
              "  }\n",
              "\n",
              "  [theme=dark] .colab-df-quickchart {\n",
              "      --bg-color: #3B4455;\n",
              "      --fill-color: #D2E3FC;\n",
              "      --hover-bg-color: #434B5C;\n",
              "      --hover-fill-color: #FFFFFF;\n",
              "      --disabled-bg-color: #3B4455;\n",
              "      --disabled-fill-color: #666;\n",
              "  }\n",
              "\n",
              "  .colab-df-quickchart {\n",
              "    background-color: var(--bg-color);\n",
              "    border: none;\n",
              "    border-radius: 50%;\n",
              "    cursor: pointer;\n",
              "    display: none;\n",
              "    fill: var(--fill-color);\n",
              "    height: 32px;\n",
              "    padding: 0;\n",
              "    width: 32px;\n",
              "  }\n",
              "\n",
              "  .colab-df-quickchart:hover {\n",
              "    background-color: var(--hover-bg-color);\n",
              "    box-shadow: 0 1px 2px rgba(60, 64, 67, 0.3), 0 1px 3px 1px rgba(60, 64, 67, 0.15);\n",
              "    fill: var(--button-hover-fill-color);\n",
              "  }\n",
              "\n",
              "  .colab-df-quickchart-complete:disabled,\n",
              "  .colab-df-quickchart-complete:disabled:hover {\n",
              "    background-color: var(--disabled-bg-color);\n",
              "    fill: var(--disabled-fill-color);\n",
              "    box-shadow: none;\n",
              "  }\n",
              "\n",
              "  .colab-df-spinner {\n",
              "    border: 2px solid var(--fill-color);\n",
              "    border-color: transparent;\n",
              "    border-bottom-color: var(--fill-color);\n",
              "    animation:\n",
              "      spin 1s steps(1) infinite;\n",
              "  }\n",
              "\n",
              "  @keyframes spin {\n",
              "    0% {\n",
              "      border-color: transparent;\n",
              "      border-bottom-color: var(--fill-color);\n",
              "      border-left-color: var(--fill-color);\n",
              "    }\n",
              "    20% {\n",
              "      border-color: transparent;\n",
              "      border-left-color: var(--fill-color);\n",
              "      border-top-color: var(--fill-color);\n",
              "    }\n",
              "    30% {\n",
              "      border-color: transparent;\n",
              "      border-left-color: var(--fill-color);\n",
              "      border-top-color: var(--fill-color);\n",
              "      border-right-color: var(--fill-color);\n",
              "    }\n",
              "    40% {\n",
              "      border-color: transparent;\n",
              "      border-right-color: var(--fill-color);\n",
              "      border-top-color: var(--fill-color);\n",
              "    }\n",
              "    60% {\n",
              "      border-color: transparent;\n",
              "      border-right-color: var(--fill-color);\n",
              "    }\n",
              "    80% {\n",
              "      border-color: transparent;\n",
              "      border-right-color: var(--fill-color);\n",
              "      border-bottom-color: var(--fill-color);\n",
              "    }\n",
              "    90% {\n",
              "      border-color: transparent;\n",
              "      border-bottom-color: var(--fill-color);\n",
              "    }\n",
              "  }\n",
              "</style>\n",
              "\n",
              "  <script>\n",
              "    async function quickchart(key) {\n",
              "      const quickchartButtonEl =\n",
              "        document.querySelector('#' + key + ' button');\n",
              "      quickchartButtonEl.disabled = true;  // To prevent multiple clicks.\n",
              "      quickchartButtonEl.classList.add('colab-df-spinner');\n",
              "      try {\n",
              "        const charts = await google.colab.kernel.invokeFunction(\n",
              "            'suggestCharts', [key], {});\n",
              "      } catch (error) {\n",
              "        console.error('Error during call to suggestCharts:', error);\n",
              "      }\n",
              "      quickchartButtonEl.classList.remove('colab-df-spinner');\n",
              "      quickchartButtonEl.classList.add('colab-df-quickchart-complete');\n",
              "    }\n",
              "    (() => {\n",
              "      let quickchartButtonEl =\n",
              "        document.querySelector('#df-36a1f5ef-ea96-49ee-a511-3000d2a6003a button');\n",
              "      quickchartButtonEl.style.display =\n",
              "        google.colab.kernel.accessAllowed ? 'block' : 'none';\n",
              "    })();\n",
              "  </script>\n",
              "</div>\n",
              "\n",
              "    </div>\n",
              "  </div>\n"
            ],
            "application/vnd.google.colaboratory.intrinsic+json": {
              "type": "dataframe",
              "summary": "{\n  \"name\": \"data[[\\\"Review Text\\\", \\\"Recommended IND\\\"]]\",\n  \"rows\": 5,\n  \"fields\": [\n    {\n      \"column\": \"Review Text\",\n      \"properties\": {\n        \"dtype\": \"string\",\n        \"num_unique_values\": 5,\n        \"samples\": [\n          \"i found this in store last weekend and thought it was it perfect. i got the size small which had plenty of space for me, usually a 46 or small 34a2826.it is long, i found it to be just below knee length 56.if you zoom in, you can see some detail work along the front edges which complements the pretty openwork in back.it has pockets too by the way this will be worn over everything this summer, let us hope the polyrayonspandex blend washes ok!\",\n          \"i got this in the color listed as pink. it is not a usual pink. the fit is goodnot too tight and not too loose. the length is good for a tee.\",\n          \"i bought one of these as a gift for a friend and i loved it so much i had to get one for myself! it is beautiful material and has lovely detail, a little sheer so best worn with a cami underneath. probably better for those with not too ample busts as it does not have a lot of stretch.\"\n        ],\n        \"semantic_type\": \"\",\n        \"description\": \"\"\n      }\n    },\n    {\n      \"column\": \"Recommended IND\",\n      \"properties\": {\n        \"dtype\": \"number\",\n        \"std\": 0,\n        \"min\": 1,\n        \"max\": 1,\n        \"num_unique_values\": 1,\n        \"samples\": [\n          1\n        ],\n        \"semantic_type\": \"\",\n        \"description\": \"\"\n      }\n    }\n  ]\n}"
            }
          },
          "metadata": {},
          "execution_count": 8
        }
      ],
      "source": [
        "review_texts = data[\"Review Text\"].values\n",
        "labels = data[\"Recommended IND\"].values\n",
        "data[[\"Review Text\", \"Recommended IND\"]].head()"
      ]
    },
    {
      "cell_type": "markdown",
      "metadata": {
        "id": "gjbEzByYSZ6Q"
      },
      "source": [
        "Split training and Testing Sets"
      ]
    },
    {
      "cell_type": "code",
      "execution_count": 9,
      "metadata": {
        "colab": {
          "base_uri": "https://localhost:8080/"
        },
        "id": "ABRsltCRRIEU",
        "outputId": "8bc2a671-e165-43b7-dbd5-d598c8e3ffe8"
      },
      "outputs": [
        {
          "output_type": "stream",
          "name": "stdout",
          "text": [
            "x_train shape: 8000\n",
            "x_test shape: 2000\n",
            "y_train shape: 8000\n",
            "y_test shape: 2000\n"
          ]
        }
      ],
      "source": [
        "x_train, x_test, y_train, y_test = train_test_split(review_texts, labels, test_size=0.2, random_state=19)\n",
        "print(f\"x_train shape: {len(x_train)}\")\n",
        "print(f\"x_test shape: {len(x_test)}\")\n",
        "print(f\"y_train shape: {len(y_train)}\")\n",
        "print(f\"y_test shape: {len(y_test)}\")"
      ]
    },
    {
      "cell_type": "markdown",
      "metadata": {
        "id": "kzGnRpghSZPC"
      },
      "source": [
        "Extract the vocabulary list and assign indexes to the words, where the first and second positions are reserved for PAD and UNK, PAD is used to populate the text to a fixed length during model training and UNK is used for unknown words"
      ]
    },
    {
      "cell_type": "code",
      "execution_count": 10,
      "metadata": {
        "id": "3OFwdEN3TiUE"
      },
      "outputs": [],
      "source": [
        "def build_index(texts):\n",
        "    counter = Counter()\n",
        "    for text in texts:\n",
        "        tokens = word_tokenize(text.lower())\n",
        "        counter.update(tokens)\n",
        "    word_dict = {word: idx + 2 for idx, (word, freq) in enumerate(counter.items()) if freq >= 1}\n",
        "    word_dict = dict(word_dict)\n",
        "    word_dict[\"<PAD>\"] = 0\n",
        "    word_dict[\"<UNK>\"] = 1\n",
        "    return word_dict"
      ]
    },
    {
      "cell_type": "code",
      "execution_count": 11,
      "metadata": {
        "colab": {
          "base_uri": "https://localhost:8080/"
        },
        "id": "rb3YmIHIWMYK",
        "outputId": "e8417dad-4380-4add-b1db-e5fd72a21f38"
      },
      "outputs": [
        {
          "output_type": "stream",
          "name": "stdout",
          "text": [
            "[('i', 2), ('first', 3), ('saw', 4), ('this', 5), ('vest', 6), ('displayed', 7), ('in', 8), ('the', 9), ('window', 10), ('and', 11)]\n",
            "0\n",
            "1\n"
          ]
        }
      ],
      "source": [
        "train_vocabulary = build_index(x_train)\n",
        "print(list(train_vocabulary.items())[:10]) # Check vocabulary and their indexes\n",
        "print(f\"{train_vocabulary['<PAD>']}\") # Check index for \"PAD\"\n",
        "print(f\"{train_vocabulary['<UNK>']}\") # Check index for \"UNK\""
      ]
    },
    {
      "cell_type": "markdown",
      "metadata": {
        "id": "tWXoSxkVeRtk"
      },
      "source": [
        "Encode the text for training, which means to converts words in the text to their corresponding indexes in the vocabulary."
      ]
    },
    {
      "cell_type": "code",
      "execution_count": 12,
      "metadata": {
        "colab": {
          "base_uri": "https://localhost:8080/"
        },
        "id": "5_q5O3z7b4Jy",
        "outputId": "915b4dc5-a696-43d5-e8a8-d4e502eee3dd"
      },
      "outputs": [
        {
          "output_type": "stream",
          "name": "stdout",
          "text": [
            "[[2, 3, 4, 5, 6, 7, 8, 9, 10, 11, 12, 9, 13, 11, 14, 15, 2, 16, 17, 18, 19, 20, 21, 22, 23, 24, 25, 2, 26, 27, 28, 29, 30, 31, 32, 27, 33, 27, 34, 19, 15, 19, 35, 36, 11, 37, 38, 15, 39, 40, 41, 42, 11, 43, 15, 2, 44, 19, 45, 46, 22, 47, 48, 49, 15], [2, 50, 51, 5, 52, 35, 53, 54, 55, 56, 57, 41, 58, 59, 60, 61, 11, 2, 50, 51, 62, 63, 27, 64, 22, 65, 38, 15, 2, 51, 9, 66, 21, 9, 67, 29, 68, 69, 19, 70, 71, 50, 51, 2, 72, 73, 74, 41, 75, 76, 71, 8, 9, 77, 78, 79, 24, 11, 19, 35, 9, 80, 81, 82, 67, 78, 9, 79, 15, 2, 83, 59, 9, 84, 85, 35, 86, 87, 88, 59, 5, 16, 46, 89, 90, 78, 82, 91, 15, 9, 92, 60, 80, 78, 9, 93, 21, 5, 67, 24, 11, 2, 94, 17]]\n",
            "[[2, 137, 95, 138, 8, 9, 1086, 459, 11, 368, 8, 83, 15, 62, 1, 1095, 11, 60, 1291, 336, 745, 276, 1008, 15, 2, 72, 255, 11, 2921, 295, 15, 11, 9, 869, 29, 798, 24, 2, 1723, 64, 122, 15, 711, 24, 2, 134, 17, 5569, 377, 753, 161, 25, 45, 271, 22, 811, 138, 377, 8, 1754, 62, 147, 138, 418, 15], [95, 60, 597, 80, 15, 9, 111, 669, 258, 24, 11, 19, 35, 29, 156, 404, 917, 15, 9, 405, 2116, 35, 59, 9, 1604, 35, 150, 269, 11, 288, 15, 2, 626, 62, 175, 1, 102, 1, 24, 69, 9, 1806, 60, 239, 1578, 20, 24, 11, 405, 9, 156, 269, 1, 60, 1101, 55, 5, 338, 15, 140, 162, 60, 257, 255, 24, 62, 45, 46, 275, 138, 162, 15, 140, 162, 60, 1183, 124, 24, 162, 498, 46, 1579, 377, 1982, 15]]\n"
          ]
        }
      ],
      "source": [
        "# Encode the text for training\n",
        "def encode(text, vocab):\n",
        "    tokens = word_tokenize(text.lower())\n",
        "    encoded_tokens = [vocab.get(token, vocab[\"<UNK>\"]) for token in tokens] # If the word can not be found in vocabulary, get the index for \"UNK\"\n",
        "    return encoded_tokens\n",
        "x_train_encoded = [encode(text, train_vocabulary) for text in x_train]\n",
        "x_test_encoded = [encode(text, train_vocabulary) for text in x_test]\n",
        "print(x_train_encoded[:2])\n",
        "print(x_test_encoded[:2])"
      ]
    },
    {
      "cell_type": "code",
      "execution_count": 13,
      "metadata": {
        "colab": {
          "base_uri": "https://localhost:8080/"
        },
        "id": "DKtJ9xeAdPWx",
        "outputId": "9c9767df-ebfb-48ef-f755-330fd0089656"
      },
      "outputs": [
        {
          "output_type": "stream",
          "name": "stdout",
          "text": [
            "Reviews shape: torch.Size([32, 114])\n",
            "Labels shape: torch.Size([32])\n",
            "Reviews shape: torch.Size([32, 114])\n",
            "Labels shape: torch.Size([32])\n"
          ]
        }
      ],
      "source": [
        "class ReviewsDataset(Dataset):\n",
        "    def __init__(self, reviews, labels):\n",
        "        self.reviews = reviews\n",
        "        self.labels = labels\n",
        "\n",
        "    def __len__(self):\n",
        "        return len(self.reviews)\n",
        "\n",
        "    def __getitem__(self, idx):\n",
        "        review = self.reviews[idx]\n",
        "        label = self.labels[idx]\n",
        "        return torch.tensor(review), torch.tensor(label)\n",
        "\n",
        "# Fill in the text, making sure that all the text has the same length\n",
        "def collate_fn(batch):\n",
        "  reviews, labels = zip(*batch)\n",
        "  reviews = pad_sequence(reviews, batch_first=True, padding_value=0)\n",
        "  labels = torch.tensor(labels)\n",
        "  return reviews, labels\n",
        "\n",
        "train_dataset = ReviewsDataset(x_train_encoded, y_train)\n",
        "test_dataset = ReviewsDataset(x_test_encoded, y_test)\n",
        "train_loader = DataLoader(train_dataset, batch_size=32, collate_fn=collate_fn, shuffle = True)\n",
        "test_loader = DataLoader(test_dataset, batch_size=32, collate_fn=collate_fn, shuffle = True)\n",
        "\n",
        "# Accessing the data\n",
        "for reviews, labels in train_loader:\n",
        "    print(\"Reviews shape:\", reviews.shape) # [batch size, text sequence length]\n",
        "    print(\"Labels shape:\", labels.shape)\n",
        "    break\n",
        "for reviews, labels in test_loader:\n",
        "    print(\"Reviews shape:\", reviews.shape) # [batch size, text sequence length]\n",
        "    print(\"Labels shape:\", labels.shape)\n",
        "    break"
      ]
    },
    {
      "cell_type": "markdown",
      "metadata": {
        "id": "uC0QrT73Th9G"
      },
      "source": [
        "## GRU Model Construction"
      ]
    },
    {
      "cell_type": "code",
      "execution_count": 14,
      "metadata": {
        "id": "HFLL1AHNTSmA"
      },
      "outputs": [],
      "source": [
        "class GRUModel(nn.Module):\n",
        "    def __init__(self, vocab_size, embedding_dim, hidden_dim, num_layers, output_dim):\n",
        "        super(GRUModel, self).__init__()\n",
        "        self.embedding = nn.Embedding(vocab_size, embedding_dim, padding_idx=train_vocabulary[\"<PAD>\"]) # train_vocalulary[\"<PAD\"] = 0\n",
        "        self.gru = nn.GRU(embedding_dim, hidden_dim, num_layers=num_layers, batch_first=True)\n",
        "        self.fc = nn.Linear(hidden_dim, output_dim)\n",
        "\n",
        "    def forward(self, x):\n",
        "        embedded = self.embedding(x)\n",
        "        output, hidden = self.gru(embedded)\n",
        "        hidden = hidden[-1, :, :]\n",
        "        out = self.fc(hidden)\n",
        "        return out"
      ]
    },
    {
      "cell_type": "markdown",
      "metadata": {
        "id": "FcQ5hlY5V4LM"
      },
      "source": [
        "Define some parameter for training"
      ]
    },
    {
      "cell_type": "code",
      "execution_count": 15,
      "metadata": {
        "id": "xf6J2z15TSnz"
      },
      "outputs": [],
      "source": [
        "vocab_size = len(train_vocabulary)\n",
        "embedding_dim = 100\n",
        "hidden_dim = 128\n",
        "num_layers = 2\n",
        "output_dim = 1 # 2-classification task\n",
        "num_epochs = 20 # Can adjust here, still finding the optimal value"
      ]
    },
    {
      "cell_type": "markdown",
      "metadata": {
        "id": "HORDHVCHakpR"
      },
      "source": [
        "## Train"
      ]
    },
    {
      "cell_type": "code",
      "execution_count": 16,
      "metadata": {
        "colab": {
          "base_uri": "https://localhost:8080/"
        },
        "id": "HEE_ETAUTSqA",
        "outputId": "8fc84cc1-c1f8-4d92-dc9d-deecd008c675"
      },
      "outputs": [
        {
          "output_type": "stream",
          "name": "stdout",
          "text": [
            "Epoch [1/20], Loss: 0.6487\n",
            "Epoch [2/20], Loss: 0.6351\n",
            "Epoch [3/20], Loss: 0.5024\n",
            "Epoch [4/20], Loss: 0.3514\n",
            "Epoch [5/20], Loss: 0.2635\n",
            "Epoch [6/20], Loss: 0.2009\n",
            "Epoch [7/20], Loss: 0.1467\n",
            "Epoch [8/20], Loss: 0.1107\n",
            "Epoch [9/20], Loss: 0.0812\n",
            "Epoch [10/20], Loss: 0.0594\n",
            "Epoch [11/20], Loss: 0.0528\n",
            "Epoch [12/20], Loss: 0.0460\n",
            "Epoch [13/20], Loss: 0.0301\n",
            "Epoch [14/20], Loss: 0.0342\n",
            "Epoch [15/20], Loss: 0.0208\n",
            "Epoch [16/20], Loss: 0.0284\n",
            "Epoch [17/20], Loss: 0.0158\n",
            "Epoch [18/20], Loss: 0.0293\n",
            "Epoch [19/20], Loss: 0.0194\n",
            "Epoch [20/20], Loss: 0.0080\n"
          ]
        }
      ],
      "source": [
        "model = GRUModel(vocab_size, embedding_dim, hidden_dim, num_layers, output_dim)\n",
        "\n",
        "# Loss and optimizer\n",
        "criterion = nn.BCEWithLogitsLoss()\n",
        "optimizer = torch.optim.Adam(model.parameters(), lr=0.001)\n",
        "\n",
        "# Train\n",
        "device = torch.device(\"cuda\" if torch.cuda.is_available() else \"cpu\") # Use google colab cuda to train\n",
        "model.to(device)\n",
        "\n",
        "train_losses = []\n",
        "for epoch in range(num_epochs):\n",
        "    losses = []\n",
        "    for reviews, labels in train_loader:\n",
        "        reviews, labels = reviews.to(device), labels.to(device).float().unsqueeze(1)\n",
        "        optimizer.zero_grad()\n",
        "        outputs = model(reviews)\n",
        "        loss = criterion(outputs, labels)\n",
        "        loss.backward()\n",
        "        optimizer.step()\n",
        "        losses.append(loss.item())\n",
        "    avg_loss = sum(losses)/len(losses)\n",
        "    train_losses.append(avg_loss)\n",
        "    print(f'Epoch [{epoch+1}/{num_epochs}], Loss: {avg_loss:.4f}')"
      ]
    },
    {
      "cell_type": "code",
      "execution_count": 17,
      "metadata": {
        "colab": {
          "base_uri": "https://localhost:8080/",
          "height": 472
        },
        "id": "9mXfB7HnTSsU",
        "outputId": "1b9da065-d8e0-4fc0-9053-d8fb5520b126"
      },
      "outputs": [
        {
          "output_type": "display_data",
          "data": {
            "text/plain": [
              "<Figure size 640x480 with 1 Axes>"
            ],
            "image/png": "[encoded data removed]"
          },
          "metadata": {}
        }
      ],
      "source": [
        "plt.plot(train_losses)\n",
        "plt.xlabel(\"Epoch\")\n",
        "plt.ylabel(\"Training Loss\")\n",
        "plt.title(\"Training Loss vs Epoch\")\n",
        "plt.show()\n"
      ]
    },
    {
      "cell_type": "markdown",
      "metadata": {
        "id": "aj6uDLKEffSf"
      },
      "source": [
        "## Evaluate\n"
      ]
    },
    {
      "cell_type": "code",
      "execution_count": 18,
      "metadata": {
        "colab": {
          "base_uri": "https://localhost:8080/"
        },
        "id": "mvdj9-B6dPbp",
        "outputId": "f8880fce-628b-44f9-8501-29e5aa1ecba5"
      },
      "outputs": [
        {
          "output_type": "stream",
          "name": "stdout",
          "text": [
            "Recommended - Predicted Correctly: 1119/1291\n",
            "Not Recommended - Predicted Correctly: 568/709\n",
            "Precision: 0.8881\n",
            "Recall: 0.8668\n",
            "Accuracy: 0.8435\n"
          ]
        }
      ],
      "source": [
        "true_recommended = 0  # Correct predictions for \"recommended\" reviews\n",
        "true_not_recommended = 0  # Correct predictions for \"not recommended\" reviews\n",
        "total_recommended = 0  # Total number of \"recommended\" reviews\n",
        "total_not_recommended = 0  # Total number of \"not recommended\" reviews\n",
        "\n",
        "all_labels = []  # Store all ground truth labels\n",
        "all_predictions = []  # Store all predicted results\n",
        "\n",
        "with torch.no_grad():\n",
        "    for reviews, labels in test_loader:\n",
        "        reviews, labels = reviews.to(device), labels.to(device).float().unsqueeze(1)\n",
        "        outputs = model(reviews)\n",
        "        predictions = (torch.sigmoid(outputs) > 0.5).int()\n",
        "        all_labels.extend(labels.cpu().numpy())\n",
        "        all_predictions.extend(predictions.cpu().numpy())\n",
        "        true_recommended += ((predictions == 1) & (labels == 1)).sum().item()\n",
        "        true_not_recommended += ((predictions == 0) & (labels == 0)).sum().item()\n",
        "        total_recommended += (labels == 1).sum().item()\n",
        "        total_not_recommended += (labels == 0).sum().item()\n",
        "\n",
        "\n",
        "print(f\"Recommended - Predicted Correctly: {true_recommended}/{total_recommended}\")\n",
        "print(f\"Not Recommended - Predicted Correctly: {true_not_recommended}/{total_not_recommended}\")\n",
        "precision = precision_score(all_labels, all_predictions)\n",
        "recall = recall_score(all_labels, all_predictions)\n",
        "accuracy = accuracy_score(all_labels, all_predictions)\n",
        "print(f\"Precision: {precision:.4f}\")\n",
        "print(f\"Recall: {recall:.4f}\")\n",
        "print(f\"Accuracy: {accuracy:.4f}\")\n"
      ]
    },
    {
      "cell_type": "code",
      "execution_count": 19,
      "metadata": {
        "colab": {
          "base_uri": "https://localhost:8080/",
          "height": 564
        },
        "id": "bO0rHnLg6q-e",
        "outputId": "b09edbba-4eab-4f28-ab52-075a7543b8c5"
      },
      "outputs": [
        {
          "output_type": "display_data",
          "data": {
            "text/plain": [
              "<Figure size 800x600 with 2 Axes>"
            ],
            "image/png": "[encoded data removed]"
          },
          "metadata": {}
        }
      ],
      "source": [
        "conf_matrix = confusion_matrix(all_labels, all_predictions)\n",
        "\n",
        "# Plot confusion matrix\n",
        "plt.figure(figsize=(8, 6))\n",
        "sns.heatmap(conf_matrix, annot=True, fmt=\"d\", cmap=\"Blues\",\n",
        "            xticklabels=[\"Predicted Not Recommended\", \"Predicted Recommended\"],\n",
        "            yticklabels=[\"Actual Not Recommended\", \"Actual Recommended\"])\n",
        "plt.title(\"Confusion Matrix\")\n",
        "plt.xlabel(\"Predicted Labels\")\n",
        "plt.ylabel(\"True Labels\")\n",
        "plt.show()"
      ]
    },
    {
      "cell_type": "markdown",
      "metadata": {
        "id": "aopQgWxj2v9g"
      },
      "source": [
        "Use a trained model to predict whether a given product review is classified as \"Recommended\" or \"Not Recommended."
      ]
    },
    {
      "cell_type": "code",
      "execution_count": 20,
      "metadata": {
        "colab": {
          "base_uri": "https://localhost:8080/"
        },
        "id": "nwcaH28yhLHF",
        "outputId": "2ebc433e-8585-4bc1-e667-690b45a9f724"
      },
      "outputs": [
        {
          "output_type": "stream",
          "name": "stdout",
          "text": [
            "Predictions for Test Reviews:\n",
            "\n",
            "Review 1: This product is amazing!\n",
            "Predicted probability: 0.9956\n",
            "Predicted class (0: Not Recommended, 1: Recommended): 1\n",
            "\n",
            "Review 2: I love this item, it's perfect for me.\n",
            "Predicted probability: 0.9952\n",
            "Predicted class (0: Not Recommended, 1: Recommended): 1\n",
            "\n",
            "Review 3: Absolutely fantastic quality, highly recommend.\n",
            "Predicted probability: 0.9962\n",
            "Predicted class (0: Not Recommended, 1: Recommended): 1\n",
            "\n",
            "Review 4: Good value for the price, exceeded my expectations.\n",
            "Predicted probability: 0.1572\n",
            "Predicted class (0: Not Recommended, 1: Recommended): 0\n",
            "\n",
            "Review 5: Pretty good, I’m satisfied with my purchase.\n",
            "Predicted probability: 0.9625\n",
            "Predicted class (0: Not Recommended, 1: Recommended): 1\n",
            "\n",
            "Review 6: Decent quality, works as advertised.\n",
            "Predicted probability: 0.9638\n",
            "Predicted class (0: Not Recommended, 1: Recommended): 1\n",
            "\n",
            "Review 7: It's okay, does the job but nothing special.\n",
            "Predicted probability: 0.0424\n",
            "Predicted class (0: Not Recommended, 1: Recommended): 0\n",
            "\n",
            "Review 8: Overall a good purchase, I would recommend it.\n",
            "Predicted probability: 0.9969\n",
            "Predicted class (0: Not Recommended, 1: Recommended): 1\n",
            "\n",
            "Review 9: The features are nice, better than I expected.\n",
            "Predicted probability: 0.9568\n",
            "Predicted class (0: Not Recommended, 1: Recommended): 1\n",
            "\n",
            "Review 10: I’m happy with this, great choice for the price.\n",
            "Predicted probability: 0.9956\n",
            "Predicted class (0: Not Recommended, 1: Recommended): 1\n",
            "\n",
            "Review 11: Terrible product, broke after one use.\n",
            "Predicted probability: 0.0007\n",
            "Predicted class (0: Not Recommended, 1: Recommended): 0\n",
            "\n",
            "Review 12: Awful quality, not worth the money.\n",
            "Predicted probability: 0.0010\n",
            "Predicted class (0: Not Recommended, 1: Recommended): 0\n",
            "\n",
            "Review 13: I’m disappointed, completely useless.\n",
            "Predicted probability: 0.0125\n",
            "Predicted class (0: Not Recommended, 1: Recommended): 0\n",
            "\n",
            "Review 14: Not great, feels cheap and flimsy.\n",
            "Predicted probability: 0.0044\n",
            "Predicted class (0: Not Recommended, 1: Recommended): 0\n",
            "\n",
            "Review 15: Would not recommend, didn’t meet my expectations.\n",
            "Predicted probability: 0.0023\n",
            "Predicted class (0: Not Recommended, 1: Recommended): 0\n",
            "\n",
            "Review 16: The quality is poor, I expected more.\n",
            "Predicted probability: 0.0025\n",
            "Predicted class (0: Not Recommended, 1: Recommended): 0\n",
            "\n",
            "Review 17: It’s acceptable but barely usable.\n",
            "Predicted probability: 0.2466\n",
            "Predicted class (0: Not Recommended, 1: Recommended): 0\n",
            "\n",
            "Review 18: Nothing special, very average at best.\n",
            "Predicted probability: 0.8390\n",
            "Predicted class (0: Not Recommended, 1: Recommended): 1\n",
            "\n",
            "Review 19: Doesn’t work as expected, quite frustrating.\n",
            "Predicted probability: 0.0030\n",
            "Predicted class (0: Not Recommended, 1: Recommended): 0\n",
            "\n",
            "Review 20: I regret buying this, waste of money.\n",
            "Predicted probability: 0.9694\n",
            "Predicted class (0: Not Recommended, 1: Recommended): 1\n"
          ]
        }
      ],
      "source": [
        "test_reviews = [\n",
        "    # Recommended (Positive sentiment)\n",
        "    \"This product is amazing!\",\n",
        "    \"I love this item, it's perfect for me.\",\n",
        "    \"Absolutely fantastic quality, highly recommend.\",\n",
        "    \"Good value for the price, exceeded my expectations.\",\n",
        "    \"Pretty good, I’m satisfied with my purchase.\",\n",
        "    \"Decent quality, works as advertised.\",\n",
        "    \"It's okay, does the job but nothing special.\",\n",
        "    \"Overall a good purchase, I would recommend it.\",\n",
        "    \"The features are nice, better than I expected.\",\n",
        "    \"I’m happy with this, great choice for the price.\",\n",
        "\n",
        "    # Not Recommended (Negative sentiment)\n",
        "    \"Terrible product, broke after one use.\",\n",
        "    \"Awful quality, not worth the money.\",\n",
        "    \"I’m disappointed, completely useless.\",\n",
        "    \"Not great, feels cheap and flimsy.\",\n",
        "    \"Would not recommend, didn’t meet my expectations.\",\n",
        "    \"The quality is poor, I expected more.\",\n",
        "    \"It’s acceptable but barely usable.\",\n",
        "    \"Nothing special, very average at best.\",\n",
        "    \"Doesn’t work as expected, quite frustrating.\",\n",
        "    \"I regret buying this, waste of money.\",\n",
        "]\n",
        "encoded_reviews = [torch.tensor(encode(review, train_vocabulary)).unsqueeze(0).to(device) for review in test_reviews]\n",
        "\n",
        "# Perform batch prediction\n",
        "print(\"Predictions for Test Reviews:\")\n",
        "with torch.no_grad():\n",
        "    for idx, review_tensor in enumerate(encoded_reviews):\n",
        "        output = model(review_tensor)\n",
        "        probability = torch.sigmoid(output).item()\n",
        "        prediction = int(probability > 0.5)\n",
        "        print(f\"\\nReview {idx+1}: {test_reviews[idx]}\")\n",
        "        print(f\"Predicted probability: {probability:.4f}\")\n",
        "        print(f\"Predicted class (0: Not Recommended, 1: Recommended): {prediction}\")\n",
        "\n"
      ]
    },
    {
      "cell_type": "markdown",
      "metadata": {
        "id": "7wd5gIDXyQCC"
      },
      "source": [
        "## Real Data Testcases"
      ]
    },
    {
      "cell_type": "code",
      "execution_count": 21,
      "metadata": {
        "colab": {
          "base_uri": "https://localhost:8080/",
          "height": 206
        },
        "id": "ehk204dwfH1V",
        "outputId": "a0c745ff-e461-4edd-b3ee-656d834aa774"
      },
      "outputs": [
        {
          "output_type": "execute_result",
          "data": {
            "text/plain": [
              "    Unnamed: 0  Age                                        Review Text  \\\n",
              "0            0   42  always attracted to wool for its warmth and br...   \n",
              "3            3   23  i absolutely love this sweater. it is super so...   \n",
              "5            5   33  i love this dress! there are so many different...   \n",
              "4            4   30  i love this top so much that i ordered it in s...   \n",
              "16          16   31  expected them to fit somewhat loose but actual...   \n",
              "\n",
              "    Rating  Recommended IND  Positive Feedback Count  \n",
              "0        5                1                       15  \n",
              "3        5                1                        1  \n",
              "5        5                1                        0  \n",
              "4        5                1                        0  \n",
              "16       4                1                        3  "
            ],
            "text/html": [
              "\n",
              "  <div id=\"df-3a1ed6d5-823a-4b63-b760-2377e029a3a2\" class=\"colab-df-container\">\n",
              "    <div>\n",
              "<style scoped>\n",
              "    .dataframe tbody tr th:only-of-type {\n",
              "        vertical-align: middle;\n",
              "    }\n",
              "\n",
              "    .dataframe tbody tr th {\n",
              "        vertical-align: top;\n",
              "    }\n",
              "\n",
              "    .dataframe thead th {\n",
              "        text-align: right;\n",
              "    }\n",
              "</style>\n",
              "<table border=\"1\" class=\"dataframe\">\n",
              "  <thead>\n",
              "    <tr style=\"text-align: right;\">\n",
              "      <th></th>\n",
              "      <th>Unnamed: 0</th>\n",
              "      <th>Age</th>\n",
              "      <th>Review Text</th>\n",
              "      <th>Rating</th>\n",
              "      <th>Recommended IND</th>\n",
              "      <th>Positive Feedback Count</th>\n",
              "    </tr>\n",
              "  </thead>\n",
              "  <tbody>\n",
              "    <tr>\n",
              "      <th>0</th>\n",
              "      <td>0</td>\n",
              "      <td>42</td>\n",
              "      <td>always attracted to wool for its warmth and br...</td>\n",
              "      <td>5</td>\n",
              "      <td>1</td>\n",
              "      <td>15</td>\n",
              "    </tr>\n",
              "    <tr>\n",
              "      <th>3</th>\n",
              "      <td>3</td>\n",
              "      <td>23</td>\n",
              "      <td>i absolutely love this sweater. it is super so...</td>\n",
              "      <td>5</td>\n",
              "      <td>1</td>\n",
              "      <td>1</td>\n",
              "    </tr>\n",
              "    <tr>\n",
              "      <th>5</th>\n",
              "      <td>5</td>\n",
              "      <td>33</td>\n",
              "      <td>i love this dress! there are so many different...</td>\n",
              "      <td>5</td>\n",
              "      <td>1</td>\n",
              "      <td>0</td>\n",
              "    </tr>\n",
              "    <tr>\n",
              "      <th>4</th>\n",
              "      <td>4</td>\n",
              "      <td>30</td>\n",
              "      <td>i love this top so much that i ordered it in s...</td>\n",
              "      <td>5</td>\n",
              "      <td>1</td>\n",
              "      <td>0</td>\n",
              "    </tr>\n",
              "    <tr>\n",
              "      <th>16</th>\n",
              "      <td>16</td>\n",
              "      <td>31</td>\n",
              "      <td>expected them to fit somewhat loose but actual...</td>\n",
              "      <td>4</td>\n",
              "      <td>1</td>\n",
              "      <td>3</td>\n",
              "    </tr>\n",
              "  </tbody>\n",
              "</table>\n",
              "</div>\n",
              "    <div class=\"colab-df-buttons\">\n",
              "\n",
              "  <div class=\"colab-df-container\">\n",
              "    <button class=\"colab-df-convert\" onclick=\"convertToInteractive('df-3a1ed6d5-823a-4b63-b760-2377e029a3a2')\"\n",
              "            title=\"Convert this dataframe to an interactive table.\"\n",
              "            style=\"display:none;\">\n",
              "\n",
              "  <svg xmlns=\"http://www.w3.org/2000/svg\" height=\"24px\" viewBox=\"0 -960 960 960\">\n",
              "    <path d=\"M120-120v-720h720v720H120Zm60-500h600v-160H180v160Zm220 220h160v-160H400v160Zm0 220h160v-160H400v160ZM180-400h160v-160H180v160Zm440 0h160v-160H620v160ZM180-180h160v-160H180v160Zm440 0h160v-160H620v160Z\"/>\n",
              "  </svg>\n",
              "    </button>\n",
              "\n",
              "  <style>\n",
              "    .colab-df-container {\n",
              "      display:flex;\n",
              "      gap: 12px;\n",
              "    }\n",
              "\n",
              "    .colab-df-convert {\n",
              "      background-color: #E8F0FE;\n",
              "      border: none;\n",
              "      border-radius: 50%;\n",
              "      cursor: pointer;\n",
              "      display: none;\n",
              "      fill: #1967D2;\n",
              "      height: 32px;\n",
              "      padding: 0 0 0 0;\n",
              "      width: 32px;\n",
              "    }\n",
              "\n",
              "    .colab-df-convert:hover {\n",
              "      background-color: #E2EBFA;\n",
              "      box-shadow: 0px 1px 2px rgba(60, 64, 67, 0.3), 0px 1px 3px 1px rgba(60, 64, 67, 0.15);\n",
              "      fill: #174EA6;\n",
              "    }\n",
              "\n",
              "    .colab-df-buttons div {\n",
              "      margin-bottom: 4px;\n",
              "    }\n",
              "\n",
              "    [theme=dark] .colab-df-convert {\n",
              "      background-color: #3B4455;\n",
              "      fill: #D2E3FC;\n",
              "    }\n",
              "\n",
              "    [theme=dark] .colab-df-convert:hover {\n",
              "      background-color: #434B5C;\n",
              "      box-shadow: 0px 1px 3px 1px rgba(0, 0, 0, 0.15);\n",
              "      filter: drop-shadow(0px 1px 2px rgba(0, 0, 0, 0.3));\n",
              "      fill: #FFFFFF;\n",
              "    }\n",
              "  </style>\n",
              "\n",
              "    <script>\n",
              "      const buttonEl =\n",
              "        document.querySelector('#df-3a1ed6d5-823a-4b63-b760-2377e029a3a2 button.colab-df-convert');\n",
              "      buttonEl.style.display =\n",
              "        google.colab.kernel.accessAllowed ? 'block' : 'none';\n",
              "\n",
              "      async function convertToInteractive(key) {\n",
              "        const element = document.querySelector('#df-3a1ed6d5-823a-4b63-b760-2377e029a3a2');\n",
              "        const dataTable =\n",
              "          await google.colab.kernel.invokeFunction('convertToInteractive',\n",
              "                                                    [key], {});\n",
              "        if (!dataTable) return;\n",
              "\n",
              "        const docLinkHtml = 'Like what you see? Visit the ' +\n",
              "          '<a target=\"_blank\" href=https://colab.research.google.com/notebooks/data_table.ipynb>data table notebook</a>'\n",
              "          + ' to learn more about interactive tables.';\n",
              "        element.innerHTML = '';\n",
              "        dataTable['output_type'] = 'display_data';\n",
              "        await google.colab.output.renderOutput(dataTable, element);\n",
              "        const docLink = document.createElement('div');\n",
              "        docLink.innerHTML = docLinkHtml;\n",
              "        element.appendChild(docLink);\n",
              "      }\n",
              "    </script>\n",
              "  </div>\n",
              "\n",
              "\n",
              "<div id=\"df-c566deea-3fab-47b2-b0fb-b7760a0eecee\">\n",
              "  <button class=\"colab-df-quickchart\" onclick=\"quickchart('df-c566deea-3fab-47b2-b0fb-b7760a0eecee')\"\n",
              "            title=\"Suggest charts\"\n",
              "            style=\"display:none;\">\n",
              "\n",
              "<svg xmlns=\"http://www.w3.org/2000/svg\" height=\"24px\"viewBox=\"0 0 24 24\"\n",
              "     width=\"24px\">\n",
              "    <g>\n",
              "        <path d=\"M19 3H5c-1.1 0-2 .9-2 2v14c0 1.1.9 2 2 2h14c1.1 0 2-.9 2-2V5c0-1.1-.9-2-2-2zM9 17H7v-7h2v7zm4 0h-2V7h2v10zm4 0h-2v-4h2v4z\"/>\n",
              "    </g>\n",
              "</svg>\n",
              "  </button>\n",
              "\n",
              "<style>\n",
              "  .colab-df-quickchart {\n",
              "      --bg-color: #E8F0FE;\n",
              "      --fill-color: #1967D2;\n",
              "      --hover-bg-color: #E2EBFA;\n",
              "      --hover-fill-color: #174EA6;\n",
              "      --disabled-fill-color: #AAA;\n",
              "      --disabled-bg-color: #DDD;\n",
              "  }\n",
              "\n",
              "  [theme=dark] .colab-df-quickchart {\n",
              "      --bg-color: #3B4455;\n",
              "      --fill-color: #D2E3FC;\n",
              "      --hover-bg-color: #434B5C;\n",
              "      --hover-fill-color: #FFFFFF;\n",
              "      --disabled-bg-color: #3B4455;\n",
              "      --disabled-fill-color: #666;\n",
              "  }\n",
              "\n",
              "  .colab-df-quickchart {\n",
              "    background-color: var(--bg-color);\n",
              "    border: none;\n",
              "    border-radius: 50%;\n",
              "    cursor: pointer;\n",
              "    display: none;\n",
              "    fill: var(--fill-color);\n",
              "    height: 32px;\n",
              "    padding: 0;\n",
              "    width: 32px;\n",
              "  }\n",
              "\n",
              "  .colab-df-quickchart:hover {\n",
              "    background-color: var(--hover-bg-color);\n",
              "    box-shadow: 0 1px 2px rgba(60, 64, 67, 0.3), 0 1px 3px 1px rgba(60, 64, 67, 0.15);\n",
              "    fill: var(--button-hover-fill-color);\n",
              "  }\n",
              "\n",
              "  .colab-df-quickchart-complete:disabled,\n",
              "  .colab-df-quickchart-complete:disabled:hover {\n",
              "    background-color: var(--disabled-bg-color);\n",
              "    fill: var(--disabled-fill-color);\n",
              "    box-shadow: none;\n",
              "  }\n",
              "\n",
              "  .colab-df-spinner {\n",
              "    border: 2px solid var(--fill-color);\n",
              "    border-color: transparent;\n",
              "    border-bottom-color: var(--fill-color);\n",
              "    animation:\n",
              "      spin 1s steps(1) infinite;\n",
              "  }\n",
              "\n",
              "  @keyframes spin {\n",
              "    0% {\n",
              "      border-color: transparent;\n",
              "      border-bottom-color: var(--fill-color);\n",
              "      border-left-color: var(--fill-color);\n",
              "    }\n",
              "    20% {\n",
              "      border-color: transparent;\n",
              "      border-left-color: var(--fill-color);\n",
              "      border-top-color: var(--fill-color);\n",
              "    }\n",
              "    30% {\n",
              "      border-color: transparent;\n",
              "      border-left-color: var(--fill-color);\n",
              "      border-top-color: var(--fill-color);\n",
              "      border-right-color: var(--fill-color);\n",
              "    }\n",
              "    40% {\n",
              "      border-color: transparent;\n",
              "      border-right-color: var(--fill-color);\n",
              "      border-top-color: var(--fill-color);\n",
              "    }\n",
              "    60% {\n",
              "      border-color: transparent;\n",
              "      border-right-color: var(--fill-color);\n",
              "    }\n",
              "    80% {\n",
              "      border-color: transparent;\n",
              "      border-right-color: var(--fill-color);\n",
              "      border-bottom-color: var(--fill-color);\n",
              "    }\n",
              "    90% {\n",
              "      border-color: transparent;\n",
              "      border-bottom-color: var(--fill-color);\n",
              "    }\n",
              "  }\n",
              "</style>\n",
              "\n",
              "  <script>\n",
              "    async function quickchart(key) {\n",
              "      const quickchartButtonEl =\n",
              "        document.querySelector('#' + key + ' button');\n",
              "      quickchartButtonEl.disabled = true;  // To prevent multiple clicks.\n",
              "      quickchartButtonEl.classList.add('colab-df-spinner');\n",
              "      try {\n",
              "        const charts = await google.colab.kernel.invokeFunction(\n",
              "            'suggestCharts', [key], {});\n",
              "      } catch (error) {\n",
              "        console.error('Error during call to suggestCharts:', error);\n",
              "      }\n",
              "      quickchartButtonEl.classList.remove('colab-df-spinner');\n",
              "      quickchartButtonEl.classList.add('colab-df-quickchart-complete');\n",
              "    }\n",
              "    (() => {\n",
              "      let quickchartButtonEl =\n",
              "        document.querySelector('#df-c566deea-3fab-47b2-b0fb-b7760a0eecee button');\n",
              "      quickchartButtonEl.style.display =\n",
              "        google.colab.kernel.accessAllowed ? 'block' : 'none';\n",
              "    })();\n",
              "  </script>\n",
              "</div>\n",
              "\n",
              "    </div>\n",
              "  </div>\n"
            ],
            "application/vnd.google.colaboratory.intrinsic+json": {
              "type": "dataframe",
              "variable_name": "real_test_data_sorted",
              "summary": "{\n  \"name\": \"real_test_data_sorted\",\n  \"rows\": 20,\n  \"fields\": [\n    {\n      \"column\": \"Unnamed: 0\",\n      \"properties\": {\n        \"dtype\": \"number\",\n        \"std\": 5,\n        \"min\": 0,\n        \"max\": 19,\n        \"num_unique_values\": 20,\n        \"samples\": [\n          0,\n          13,\n          6\n        ],\n        \"semantic_type\": \"\",\n        \"description\": \"\"\n      }\n    },\n    {\n      \"column\": \"Age\",\n      \"properties\": {\n        \"dtype\": \"number\",\n        \"std\": 10,\n        \"min\": 23,\n        \"max\": 63,\n        \"num_unique_values\": 16,\n        \"samples\": [\n          42,\n          23,\n          37\n        ],\n        \"semantic_type\": \"\",\n        \"description\": \"\"\n      }\n    },\n    {\n      \"column\": \"Review Text\",\n      \"properties\": {\n        \"dtype\": \"string\",\n        \"num_unique_values\": 20,\n        \"samples\": [\n          \"always attracted to wool for its warmth and breathability. this jacket has great style that can be casual or dressed up some. it is slightly more boxy then expected which i think lends to the casual look. find myself wearing it a lot.\",\n          \"material is hard to wear a bra under it\",\n          \"this design looks really sharp on the image, but in reality this jacket felt more like a jacket you would get at forever xxi.  the fabric had that polyestershiny quality to it that made it look cheap.  since the fabric was pretty soft, with a gray jersey lining, it felt more like a padded jacket than a constructed blazer.  i also thought the cut was small if you have a bust larger than a b, i felt like i was busting out of a size 8, and i am a 34d.\"\n        ],\n        \"semantic_type\": \"\",\n        \"description\": \"\"\n      }\n    },\n    {\n      \"column\": \"Rating\",\n      \"properties\": {\n        \"dtype\": \"number\",\n        \"std\": 1,\n        \"min\": 2,\n        \"max\": 5,\n        \"num_unique_values\": 4,\n        \"samples\": [\n          4,\n          2,\n          5\n        ],\n        \"semantic_type\": \"\",\n        \"description\": \"\"\n      }\n    },\n    {\n      \"column\": \"Recommended IND\",\n      \"properties\": {\n        \"dtype\": \"number\",\n        \"std\": 0,\n        \"min\": 0,\n        \"max\": 1,\n        \"num_unique_values\": 2,\n        \"samples\": [\n          0,\n          1\n        ],\n        \"semantic_type\": \"\",\n        \"description\": \"\"\n      }\n    },\n    {\n      \"column\": \"Positive Feedback Count\",\n      \"properties\": {\n        \"dtype\": \"number\",\n        \"std\": 3,\n        \"min\": 0,\n        \"max\": 15,\n        \"num_unique_values\": 6,\n        \"samples\": [\n          15,\n          1\n        ],\n        \"semantic_type\": \"\",\n        \"description\": \"\"\n      }\n    }\n  ]\n}"
            }
          },
          "metadata": {},
          "execution_count": 21
        }
      ],
      "source": [
        "test_file_path = '/content/drive/MyDrive/684folder//20randomcases.csv'\n",
        "real_test_data = pd.read_csv(test_file_path)\n",
        "real_test_data_sorted = real_test_data.sort_values(by=\"Recommended IND\", ascending=False)\n",
        "real_test_data_sorted.head()"
      ]
    },
    {
      "cell_type": "code",
      "execution_count": 22,
      "metadata": {
        "colab": {
          "base_uri": "https://localhost:8080/"
        },
        "id": "xQrGub-iyV8Q",
        "outputId": "08b557bc-f78d-42dd-e301-b8033bd63904"
      },
      "outputs": [
        {
          "output_type": "stream",
          "name": "stdout",
          "text": [
            "Predictions for Test Reviews:\n",
            "\n",
            "Review 1: always attracted to wool for its warmth and breathability. this jacket has great style that can be casual or dressed up some. it is slightly more boxy then expected which i think lends to the casual look. find myself wearing it a lot.\n",
            "Predicted probability: 0.9998\n",
            "Predicted class (0: Not Recommended, 1: Recommended): 1\n",
            "\n",
            "Review 2: i absolutely love this sweater. it is super soft and the greywhite version is lovely. it is definitely more cropped i am 57, but looks great with high waisted jeans or a pencil skirt. so cozy!\n",
            "Predicted probability: 0.9996\n",
            "Predicted class (0: Not Recommended, 1: Recommended): 1\n",
            "\n",
            "Review 3: i love this dress! there are so many different looks you can get just by adjusting the straps or shoulders. the material is lightweight and flows with every turn. i ordered my usual size 10 and it fits perfectly. i did need a little assistance in getting the side zip to go up, but once it was on i did not want to take it off.\n",
            "Predicted probability: 0.9984\n",
            "Predicted class (0: Not Recommended, 1: Recommended): 1\n",
            "\n",
            "Review 4: i love this top so much that i ordered it in second color. it is shorter but still works with skirts and pants. the material is a fun texture. i did not have any problems with the arm holes, but this may be due to being less full in the bust area.\n",
            "Predicted probability: 0.9999\n",
            "Predicted class (0: Not Recommended, 1: Recommended): 1\n",
            "\n",
            "Review 5: expected them to fit somewhat loose but actually tight for a boyfriend fit. like a slightly relaxed skinny with a really low crotch. stretches everywhere when sitting and walking except the waistband. the distressing and fraying holes in good placement. wish there was some on the back of the leg but i have yet to find a pair that does that. good color and quality, but not quite worth full price. will probably look for them on sale later. i always prefer skinny jeans over boyfriend do it might bi\n",
            "Predicted probability: 0.9989\n",
            "Predicted class (0: Not Recommended, 1: Recommended): 1\n",
            "\n",
            "Review 6: i love this dress for day and night time. the back detail is cute and works well with a racerback bra. it runs big though. i am normally a small in dresses and the arm holes are too big in the size small on me. it was also generally too big all over. i like the length and the weight of the fabric. i purchased in the off black color.\n",
            "Predicted probability: 0.9968\n",
            "Predicted class (0: Not Recommended, 1: Recommended): 1\n",
            "\n",
            "Review 7: unusual design and striking color make this the perfect dress this winter season. the fit is flattering and the design makes it perfect for work or play.\n",
            "Predicted probability: 0.9972\n",
            "Predicted class (0: Not Recommended, 1: Recommended): 1\n",
            "\n",
            "Review 8: this is a very flattering pencil skirt. i found it in the store and bought an xs, and have been wearing it to work. it is not too short, and the wrap fit looks great.\n",
            "Predicted probability: 0.9940\n",
            "Predicted class (0: Not Recommended, 1: Recommended): 1\n",
            "\n",
            "Review 9: love the cute print and texture of fabric. perfect casual tshirt.\n",
            "Predicted probability: 0.9934\n",
            "Predicted class (0: Not Recommended, 1: Recommended): 1\n",
            "\n",
            "Review 10: i got this in the green blue pink motif and i love it. really nice flow and not tent like at all. 58, 135, and in a size 6 i do not find this shows my stomach at all. it is really comfortable and i love the colors. i did get this in store at 15 off and i think it is a little pricy for a rayon shirt without the discount.\n",
            "Predicted probability: 0.9998\n",
            "Predicted class (0: Not Recommended, 1: Recommended): 1\n",
            "\n",
            "Review 11: i loved this top when i saw it online, and i still love the idea of it. unfortunately, the execution of the design fell short. i am 54 w a long lean torso. i ordered my usual small, and the arms on the shirt were so long! bc of the way the sides of the top cut up and my 34 d chest, i do not think a petite would work for me. such a cute top, but it just will not work for me.\n",
            "Predicted probability: 0.0005\n",
            "Predicted class (0: Not Recommended, 1: Recommended): 0\n",
            "\n",
            "Review 12: i probably should have gone with petite. this dress was just awful on. the waist was nowhere near where it was supposed to be. it hits me about thigh level. it is very unforgiving, clingy, and shows every bump. i found the material tolerable but if worn for long periods of time, i have a suspicion that it would begin to irritate my skin and be scratchy. it is going back.\n",
            "Predicted probability: 0.0380\n",
            "Predicted class (0: Not Recommended, 1: Recommended): 0\n",
            "\n",
            "Review 13: this is one of the best potential dresses i have seen from retailer, but it needs a doover. i am usually a 12 in this style of dress, but i sized up to a 16 the largest size and could not even button the top. even if i had been able to do so, i would have worn it as a tunic. i am 55 and the largest size would have been a racy mini skirt at best on me if worn as a dress. this dress is fit for only the tiniest and most smallbreasted of people. that said, if the company were to try again ne\n",
            "Predicted probability: 0.0010\n",
            "Predicted class (0: Not Recommended, 1: Recommended): 0\n",
            "\n",
            "Review 14: i love the pilcro serif legging jeans but these were a big disappointment. if you have any thigh at all do not bother.\n",
            "Predicted probability: 0.0010\n",
            "Predicted class (0: Not Recommended, 1: Recommended): 0\n",
            "\n",
            "Review 15: i love the back detail but does not feel that comfortable on. i bought in green. it is fitted so get size larger if you plan to layer up. i am 107 and bought xs size. i should have ordered the s.\n",
            "Predicted probability: 0.0029\n",
            "Predicted class (0: Not Recommended, 1: Recommended): 0\n",
            "\n",
            "Review 16: this design looks really sharp on the image, but in reality this jacket felt more like a jacket you would get at forever xxi.  the fabric had that polyestershiny quality to it that made it look cheap.  since the fabric was pretty soft, with a gray jersey lining, it felt more like a padded jacket than a constructed blazer.  i also thought the cut was small if you have a bust larger than a b, i felt like i was busting out of a size 8, and i am a 34d.\n",
            "Predicted probability: 0.0019\n",
            "Predicted class (0: Not Recommended, 1: Recommended): 0\n",
            "\n",
            "Review 17: i looked at this dress for a long time before i purchased it because of the money. i wear a size 2p. was entirely disappointed in the style and construction of this dress. for one thing the lining is bulky and you could never wear it in warmer weather without burning up. the dress as pictured looks very feminine and light weight silk but there is just too much material going on thick and heavy. the overall fit was too big and very unflattering.\n",
            "Predicted probability: 0.0008\n",
            "Predicted class (0: Not Recommended, 1: Recommended): 0\n",
            "\n",
            "Review 18: material is hard to wear a bra under it\n",
            "Predicted probability: 0.0054\n",
            "Predicted class (0: Not Recommended, 1: Recommended): 0\n",
            "\n",
            "Review 19: i wish i had read the other review about the color of the pink version of this sweater before i ordered it. she was absolutely right  the color is completely different in person. it is this garish pink and brown that looks like it was knit together with remaindered yarn. it is too bad, because the cut of the sweater is cute and the zipper adds a funky touch. maybe the blue is better in person...\n",
            "Predicted probability: 0.0018\n",
            "Predicted class (0: Not Recommended, 1: Recommended): 0\n",
            "\n",
            "Review 20: i bought this top in the blue motif and loved it so so very much until i washed it. it came out of the wash delicatecold cycle with 3 small holes. i am devastated because it was destined to be my favorite top for summer. it is flattering, lightweight, gorgeous color, cool raw edges, vback detail...i could go on and on about all the things i love about this top, but now it has holes after one washing so it is all for naught. doover please with better fabric qa.\n",
            "Predicted probability: 0.0026\n",
            "Predicted class (0: Not Recommended, 1: Recommended): 0\n"
          ]
        }
      ],
      "source": [
        "review_texts = real_test_data_sorted[\"Review Text\"].values\n",
        "\n",
        "encoded_reviews = [\n",
        "    torch.tensor(encode(review, train_vocabulary)).unsqueeze(0).to(device) for review in review_texts\n",
        "]\n",
        "\n",
        "print(\"Predictions for Test Reviews:\")\n",
        "with torch.no_grad():\n",
        "    for idx, review_tensor in enumerate(encoded_reviews):\n",
        "        output = model(review_tensor)\n",
        "        probability = torch.sigmoid(output).item()\n",
        "        prediction = int(probability > 0.5)\n",
        "        print(f\"\\nReview {idx+1}: {review_texts[idx]}\")\n",
        "        print(f\"Predicted probability: {probability:.4f}\")\n",
        "        print(f\"Predicted class (0: Not Recommended, 1: Recommended): {prediction}\")\n",
        "\n",
        "\n"
      ]
    }
  ],
  "metadata": {
    "accelerator": "GPU",
    "colab": {
      "gpuType": "T4",
      "provenance": []
    },
    "kernelspec": {
      "display_name": "Python 3",
      "name": "python3"
    },
    "language_info": {
      "name": "python"
    }
  },
  "nbformat": 4,
  "nbformat_minor": 0
}