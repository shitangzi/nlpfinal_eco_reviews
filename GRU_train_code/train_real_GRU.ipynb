{
  "nbformat": 4,
  "nbformat_minor": 0,
  "metadata": {
    "colab": {
      "provenance": [],
      "gpuType": "T4"
    },
    "kernelspec": {
      "name": "python3",
      "display_name": "Python 3"
    },
    "language_info": {
      "name": "python"
    },
    "accelerator": "GPU"
  },
  "cells": [
    {
      "cell_type": "code",
      "execution_count": 1,
      "metadata": {
        "id": "6s_abCogGeva",
        "colab": {
          "base_uri": "https://localhost:8080/"
        },
        "outputId": "a7d38355-b68b-4ac0-b39d-edc9a6fc3af5"
      },
      "outputs": [
        {
          "output_type": "stream",
          "name": "stderr",
          "text": [
            "[nltk_data] Downloading package punkt to /root/nltk_data...\n",
            "[nltk_data]   Unzipping tokenizers/punkt.zip.\n",
            "[nltk_data] Downloading package punkt_tab to /root/nltk_data...\n",
            "[nltk_data]   Unzipping tokenizers/punkt_tab.zip.\n"
          ]
        },
        {
          "output_type": "execute_result",
          "data": {
            "text/plain": [
              "True"
            ]
          },
          "metadata": {},
          "execution_count": 1
        }
      ],
      "source": [
        "import nltk\n",
        "nltk.download('punkt')\n",
        "nltk.download('punkt_tab')"
      ]
    },
    {
      "cell_type": "code",
      "source": [
        "import pandas as pd\n",
        "import matplotlib.pyplot as plt\n",
        "import seaborn as sns\n",
        "import torch\n",
        "import torch.nn as nn\n",
        "from sklearn.model_selection import train_test_split\n",
        "from torch.utils.data import DataLoader, Dataset\n",
        "from torch.nn.utils.rnn import pad_sequence\n",
        "from collections import Counter\n",
        "from nltk.tokenize import word_tokenize\n",
        "import numpy as np\n",
        "from sklearn.metrics import precision_score, recall_score, f1_score, accuracy_score, confusion_matrix"
      ],
      "metadata": {
        "id": "Nohs7BBwbk5V"
      },
      "execution_count": 2,
      "outputs": []
    },
    {
      "cell_type": "code",
      "source": [
        "from google.colab import drive\n",
        "drive.mount('/content/drive')\n",
        "file_path = '/content/drive/MyDrive/684folder/processed_real_data.csv'"
      ],
      "metadata": {
        "colab": {
          "base_uri": "https://localhost:8080/"
        },
        "id": "4-9Djmmb_LUj",
        "outputId": "72a725ea-54ba-431b-a3e9-30983b719ef7"
      },
      "execution_count": 3,
      "outputs": [
        {
          "output_type": "stream",
          "name": "stdout",
          "text": [
            "Mounted at /content/drive\n"
          ]
        }
      ]
    },
    {
      "cell_type": "markdown",
      "source": [
        "## Data Preparation"
      ],
      "metadata": {
        "id": "vspX2M4WHq3x"
      }
    },
    {
      "cell_type": "code",
      "source": [
        "# data = pd.read_csv(\"synthetic_reviews.csv\")\n",
        "data = pd.read_csv(file_path)\n",
        "data.head()"
      ],
      "metadata": {
        "id": "bbFIBZ6RG9K1",
        "colab": {
          "base_uri": "https://localhost:8080/",
          "height": 206
        },
        "outputId": "0fc1ef77-b00e-4da2-965d-d5517951152c"
      },
      "execution_count": 4,
      "outputs": [
        {
          "output_type": "execute_result",
          "data": {
            "text/plain": [
              "   Unnamed: 0  Age                                        Review Text  Rating  \\\n",
              "0           0   39  this dress arrived today, and it is both flatt...       5   \n",
              "1           1   39  as other reviews stated, this dress runs very ...       3   \n",
              "2           2   63  i purchased the stripped blouse and it was ver...       3   \n",
              "3           3   67  this is truly a lovely dress. the colors are b...       5   \n",
              "4           4   62  i really like this shirt. the material was a l...       4   \n",
              "\n",
              "   Recommended IND  Positive Feedback Count  \n",
              "0                1                       24  \n",
              "1                0                        1  \n",
              "2                0                        1  \n",
              "3                1                        0  \n",
              "4                1                        1  "
            ],
            "text/html": [
              "\n",
              "  <div id=\"df-ef82155e-d069-4f6f-84c2-823ba3fd213a\" class=\"colab-df-container\">\n",
              "    <div>\n",
              "<style scoped>\n",
              "    .dataframe tbody tr th:only-of-type {\n",
              "        vertical-align: middle;\n",
              "    }\n",
              "\n",
              "    .dataframe tbody tr th {\n",
              "        vertical-align: top;\n",
              "    }\n",
              "\n",
              "    .dataframe thead th {\n",
              "        text-align: right;\n",
              "    }\n",
              "</style>\n",
              "<table border=\"1\" class=\"dataframe\">\n",
              "  <thead>\n",
              "    <tr style=\"text-align: right;\">\n",
              "      <th></th>\n",
              "      <th>Unnamed: 0</th>\n",
              "      <th>Age</th>\n",
              "      <th>Review Text</th>\n",
              "      <th>Rating</th>\n",
              "      <th>Recommended IND</th>\n",
              "      <th>Positive Feedback Count</th>\n",
              "    </tr>\n",
              "  </thead>\n",
              "  <tbody>\n",
              "    <tr>\n",
              "      <th>0</th>\n",
              "      <td>0</td>\n",
              "      <td>39</td>\n",
              "      <td>this dress arrived today, and it is both flatt...</td>\n",
              "      <td>5</td>\n",
              "      <td>1</td>\n",
              "      <td>24</td>\n",
              "    </tr>\n",
              "    <tr>\n",
              "      <th>1</th>\n",
              "      <td>1</td>\n",
              "      <td>39</td>\n",
              "      <td>as other reviews stated, this dress runs very ...</td>\n",
              "      <td>3</td>\n",
              "      <td>0</td>\n",
              "      <td>1</td>\n",
              "    </tr>\n",
              "    <tr>\n",
              "      <th>2</th>\n",
              "      <td>2</td>\n",
              "      <td>63</td>\n",
              "      <td>i purchased the stripped blouse and it was ver...</td>\n",
              "      <td>3</td>\n",
              "      <td>0</td>\n",
              "      <td>1</td>\n",
              "    </tr>\n",
              "    <tr>\n",
              "      <th>3</th>\n",
              "      <td>3</td>\n",
              "      <td>67</td>\n",
              "      <td>this is truly a lovely dress. the colors are b...</td>\n",
              "      <td>5</td>\n",
              "      <td>1</td>\n",
              "      <td>0</td>\n",
              "    </tr>\n",
              "    <tr>\n",
              "      <th>4</th>\n",
              "      <td>4</td>\n",
              "      <td>62</td>\n",
              "      <td>i really like this shirt. the material was a l...</td>\n",
              "      <td>4</td>\n",
              "      <td>1</td>\n",
              "      <td>1</td>\n",
              "    </tr>\n",
              "  </tbody>\n",
              "</table>\n",
              "</div>\n",
              "    <div class=\"colab-df-buttons\">\n",
              "\n",
              "  <div class=\"colab-df-container\">\n",
              "    <button class=\"colab-df-convert\" onclick=\"convertToInteractive('df-ef82155e-d069-4f6f-84c2-823ba3fd213a')\"\n",
              "            title=\"Convert this dataframe to an interactive table.\"\n",
              "            style=\"display:none;\">\n",
              "\n",
              "  <svg xmlns=\"http://www.w3.org/2000/svg\" height=\"24px\" viewBox=\"0 -960 960 960\">\n",
              "    <path d=\"M120-120v-720h720v720H120Zm60-500h600v-160H180v160Zm220 220h160v-160H400v160Zm0 220h160v-160H400v160ZM180-400h160v-160H180v160Zm440 0h160v-160H620v160ZM180-180h160v-160H180v160Zm440 0h160v-160H620v160Z\"/>\n",
              "  </svg>\n",
              "    </button>\n",
              "\n",
              "  <style>\n",
              "    .colab-df-container {\n",
              "      display:flex;\n",
              "      gap: 12px;\n",
              "    }\n",
              "\n",
              "    .colab-df-convert {\n",
              "      background-color: #E8F0FE;\n",
              "      border: none;\n",
              "      border-radius: 50%;\n",
              "      cursor: pointer;\n",
              "      display: none;\n",
              "      fill: #1967D2;\n",
              "      height: 32px;\n",
              "      padding: 0 0 0 0;\n",
              "      width: 32px;\n",
              "    }\n",
              "\n",
              "    .colab-df-convert:hover {\n",
              "      background-color: #E2EBFA;\n",
              "      box-shadow: 0px 1px 2px rgba(60, 64, 67, 0.3), 0px 1px 3px 1px rgba(60, 64, 67, 0.15);\n",
              "      fill: #174EA6;\n",
              "    }\n",
              "\n",
              "    .colab-df-buttons div {\n",
              "      margin-bottom: 4px;\n",
              "    }\n",
              "\n",
              "    [theme=dark] .colab-df-convert {\n",
              "      background-color: #3B4455;\n",
              "      fill: #D2E3FC;\n",
              "    }\n",
              "\n",
              "    [theme=dark] .colab-df-convert:hover {\n",
              "      background-color: #434B5C;\n",
              "      box-shadow: 0px 1px 3px 1px rgba(0, 0, 0, 0.15);\n",
              "      filter: drop-shadow(0px 1px 2px rgba(0, 0, 0, 0.3));\n",
              "      fill: #FFFFFF;\n",
              "    }\n",
              "  </style>\n",
              "\n",
              "    <script>\n",
              "      const buttonEl =\n",
              "        document.querySelector('#df-ef82155e-d069-4f6f-84c2-823ba3fd213a button.colab-df-convert');\n",
              "      buttonEl.style.display =\n",
              "        google.colab.kernel.accessAllowed ? 'block' : 'none';\n",
              "\n",
              "      async function convertToInteractive(key) {\n",
              "        const element = document.querySelector('#df-ef82155e-d069-4f6f-84c2-823ba3fd213a');\n",
              "        const dataTable =\n",
              "          await google.colab.kernel.invokeFunction('convertToInteractive',\n",
              "                                                    [key], {});\n",
              "        if (!dataTable) return;\n",
              "\n",
              "        const docLinkHtml = 'Like what you see? Visit the ' +\n",
              "          '<a target=\"_blank\" href=https://colab.research.google.com/notebooks/data_table.ipynb>data table notebook</a>'\n",
              "          + ' to learn more about interactive tables.';\n",
              "        element.innerHTML = '';\n",
              "        dataTable['output_type'] = 'display_data';\n",
              "        await google.colab.output.renderOutput(dataTable, element);\n",
              "        const docLink = document.createElement('div');\n",
              "        docLink.innerHTML = docLinkHtml;\n",
              "        element.appendChild(docLink);\n",
              "      }\n",
              "    </script>\n",
              "  </div>\n",
              "\n",
              "\n",
              "<div id=\"df-7f585b8b-a4c6-44a6-93fc-ba424ee57b4b\">\n",
              "  <button class=\"colab-df-quickchart\" onclick=\"quickchart('df-7f585b8b-a4c6-44a6-93fc-ba424ee57b4b')\"\n",
              "            title=\"Suggest charts\"\n",
              "            style=\"display:none;\">\n",
              "\n",
              "<svg xmlns=\"http://www.w3.org/2000/svg\" height=\"24px\"viewBox=\"0 0 24 24\"\n",
              "     width=\"24px\">\n",
              "    <g>\n",
              "        <path d=\"M19 3H5c-1.1 0-2 .9-2 2v14c0 1.1.9 2 2 2h14c1.1 0 2-.9 2-2V5c0-1.1-.9-2-2-2zM9 17H7v-7h2v7zm4 0h-2V7h2v10zm4 0h-2v-4h2v4z\"/>\n",
              "    </g>\n",
              "</svg>\n",
              "  </button>\n",
              "\n",
              "<style>\n",
              "  .colab-df-quickchart {\n",
              "      --bg-color: #E8F0FE;\n",
              "      --fill-color: #1967D2;\n",
              "      --hover-bg-color: #E2EBFA;\n",
              "      --hover-fill-color: #174EA6;\n",
              "      --disabled-fill-color: #AAA;\n",
              "      --disabled-bg-color: #DDD;\n",
              "  }\n",
              "\n",
              "  [theme=dark] .colab-df-quickchart {\n",
              "      --bg-color: #3B4455;\n",
              "      --fill-color: #D2E3FC;\n",
              "      --hover-bg-color: #434B5C;\n",
              "      --hover-fill-color: #FFFFFF;\n",
              "      --disabled-bg-color: #3B4455;\n",
              "      --disabled-fill-color: #666;\n",
              "  }\n",
              "\n",
              "  .colab-df-quickchart {\n",
              "    background-color: var(--bg-color);\n",
              "    border: none;\n",
              "    border-radius: 50%;\n",
              "    cursor: pointer;\n",
              "    display: none;\n",
              "    fill: var(--fill-color);\n",
              "    height: 32px;\n",
              "    padding: 0;\n",
              "    width: 32px;\n",
              "  }\n",
              "\n",
              "  .colab-df-quickchart:hover {\n",
              "    background-color: var(--hover-bg-color);\n",
              "    box-shadow: 0 1px 2px rgba(60, 64, 67, 0.3), 0 1px 3px 1px rgba(60, 64, 67, 0.15);\n",
              "    fill: var(--button-hover-fill-color);\n",
              "  }\n",
              "\n",
              "  .colab-df-quickchart-complete:disabled,\n",
              "  .colab-df-quickchart-complete:disabled:hover {\n",
              "    background-color: var(--disabled-bg-color);\n",
              "    fill: var(--disabled-fill-color);\n",
              "    box-shadow: none;\n",
              "  }\n",
              "\n",
              "  .colab-df-spinner {\n",
              "    border: 2px solid var(--fill-color);\n",
              "    border-color: transparent;\n",
              "    border-bottom-color: var(--fill-color);\n",
              "    animation:\n",
              "      spin 1s steps(1) infinite;\n",
              "  }\n",
              "\n",
              "  @keyframes spin {\n",
              "    0% {\n",
              "      border-color: transparent;\n",
              "      border-bottom-color: var(--fill-color);\n",
              "      border-left-color: var(--fill-color);\n",
              "    }\n",
              "    20% {\n",
              "      border-color: transparent;\n",
              "      border-left-color: var(--fill-color);\n",
              "      border-top-color: var(--fill-color);\n",
              "    }\n",
              "    30% {\n",
              "      border-color: transparent;\n",
              "      border-left-color: var(--fill-color);\n",
              "      border-top-color: var(--fill-color);\n",
              "      border-right-color: var(--fill-color);\n",
              "    }\n",
              "    40% {\n",
              "      border-color: transparent;\n",
              "      border-right-color: var(--fill-color);\n",
              "      border-top-color: var(--fill-color);\n",
              "    }\n",
              "    60% {\n",
              "      border-color: transparent;\n",
              "      border-right-color: var(--fill-color);\n",
              "    }\n",
              "    80% {\n",
              "      border-color: transparent;\n",
              "      border-right-color: var(--fill-color);\n",
              "      border-bottom-color: var(--fill-color);\n",
              "    }\n",
              "    90% {\n",
              "      border-color: transparent;\n",
              "      border-bottom-color: var(--fill-color);\n",
              "    }\n",
              "  }\n",
              "</style>\n",
              "\n",
              "  <script>\n",
              "    async function quickchart(key) {\n",
              "      const quickchartButtonEl =\n",
              "        document.querySelector('#' + key + ' button');\n",
              "      quickchartButtonEl.disabled = true;  // To prevent multiple clicks.\n",
              "      quickchartButtonEl.classList.add('colab-df-spinner');\n",
              "      try {\n",
              "        const charts = await google.colab.kernel.invokeFunction(\n",
              "            'suggestCharts', [key], {});\n",
              "      } catch (error) {\n",
              "        console.error('Error during call to suggestCharts:', error);\n",
              "      }\n",
              "      quickchartButtonEl.classList.remove('colab-df-spinner');\n",
              "      quickchartButtonEl.classList.add('colab-df-quickchart-complete');\n",
              "    }\n",
              "    (() => {\n",
              "      let quickchartButtonEl =\n",
              "        document.querySelector('#df-7f585b8b-a4c6-44a6-93fc-ba424ee57b4b button');\n",
              "      quickchartButtonEl.style.display =\n",
              "        google.colab.kernel.accessAllowed ? 'block' : 'none';\n",
              "    })();\n",
              "  </script>\n",
              "</div>\n",
              "\n",
              "    </div>\n",
              "  </div>\n"
            ],
            "application/vnd.google.colaboratory.intrinsic+json": {
              "type": "dataframe",
              "variable_name": "data",
              "summary": "{\n  \"name\": \"data\",\n  \"rows\": 5000,\n  \"fields\": [\n    {\n      \"column\": \"Unnamed: 0\",\n      \"properties\": {\n        \"dtype\": \"number\",\n        \"std\": 1443,\n        \"min\": 0,\n        \"max\": 4999,\n        \"num_unique_values\": 5000,\n        \"samples\": [\n          1501,\n          2586,\n          2653\n        ],\n        \"semantic_type\": \"\",\n        \"description\": \"\"\n      }\n    },\n    {\n      \"column\": \"Age\",\n      \"properties\": {\n        \"dtype\": \"number\",\n        \"std\": 11,\n        \"min\": 19,\n        \"max\": 94,\n        \"num_unique_values\": 68,\n        \"samples\": [\n          66,\n          36,\n          64\n        ],\n        \"semantic_type\": \"\",\n        \"description\": \"\"\n      }\n    },\n    {\n      \"column\": \"Review Text\",\n      \"properties\": {\n        \"dtype\": \"string\",\n        \"num_unique_values\": 4999,\n        \"samples\": [\n          \"i wanted to love this dress, and thought it would be perfect for a barn wedding i have coming up. it was allllllmost right but sadly fell short. the bib that hangs over the bust hits in a really unflattering mid point that makes you look wide. nipple tassels effect. plus i would feel the urge to keep pulling it down. did notice some of the puckering others mentioned but did not bother me, however, the way the lining and the dress line up at the bottom did. so close, so sad\",\n          \"this is a beautifully made dress and i could not wait to put it on. i was disappointed. i am 55 and a size 4 6. i ordered the 6 and it was too long and heavy looking on me. but the waist and upper body fit tightly. the zipper up the back was very heavy looking and the cut away shoulders did not work for my body type, making me look bulky on top. the torso is really built for someone with small breasts  i am average and the way the darts are, made my breasts look flatter and lower than they a\",\n          \"despite other reviewers comments on size  i really wanted this one to work so i ordered it. i am typically a size xs and d chest and instead i ordered a small. the body of the sit for well but the cups of the suit i would said for more for a b. if i lifted my arms i would literally come out of it a final comment on this suit  it looked like there were these little sticky spots all over the suit like stickers had been removed. it was reticketed and it did not really feel brand new when it arrived\"\n        ],\n        \"semantic_type\": \"\",\n        \"description\": \"\"\n      }\n    },\n    {\n      \"column\": \"Rating\",\n      \"properties\": {\n        \"dtype\": \"number\",\n        \"std\": 1,\n        \"min\": 1,\n        \"max\": 5,\n        \"num_unique_values\": 5,\n        \"samples\": [\n          3,\n          1,\n          4\n        ],\n        \"semantic_type\": \"\",\n        \"description\": \"\"\n      }\n    },\n    {\n      \"column\": \"Recommended IND\",\n      \"properties\": {\n        \"dtype\": \"number\",\n        \"std\": 0,\n        \"min\": 0,\n        \"max\": 1,\n        \"num_unique_values\": 2,\n        \"samples\": [\n          0,\n          1\n        ],\n        \"semantic_type\": \"\",\n        \"description\": \"\"\n      }\n    },\n    {\n      \"column\": \"Positive Feedback Count\",\n      \"properties\": {\n        \"dtype\": \"number\",\n        \"std\": 6,\n        \"min\": 0,\n        \"max\": 122,\n        \"num_unique_values\": 57,\n        \"samples\": [\n          24,\n          5\n        ],\n        \"semantic_type\": \"\",\n        \"description\": \"\"\n      }\n    }\n  ]\n}"
            }
          },
          "metadata": {},
          "execution_count": 4
        }
      ]
    },
    {
      "cell_type": "markdown",
      "source": [
        "Distribution of recommended IND, ratings and age."
      ],
      "metadata": {
        "id": "CtDSGeNFN6nW"
      }
    },
    {
      "cell_type": "code",
      "source": [
        "plt.figure(figsize=(8, 4))\n",
        "sns.countplot(data=data, x=\"Recommended IND\", hue=\"Recommended IND\", palette=\"viridis\", dodge=False, legend=False)\n",
        "plt.title(\"Distribution of Recommended IND\")\n",
        "plt.xlabel(\"Recommended IND (0: Not Recommended, 1: Recommended)\")\n",
        "plt.ylabel(\"Count\")\n",
        "plt.show()"
      ],
      "metadata": {
        "colab": {
          "base_uri": "https://localhost:8080/",
          "height": 410
        },
        "id": "PDHIqY6cNjZJ",
        "outputId": "527ccdb2-0715-4975-d8b6-246cfb3ef42f"
      },
      "execution_count": 5,
      "outputs": [
        {
          "output_type": "display_data",
          "data": {
            "text/plain": [
              "<Figure size 800x400 with 1 Axes>"
            ],
            "image/png": "[encoded data removed]"
          },
          "metadata": {}
        }
      ]
    },
    {
      "cell_type": "code",
      "source": [
        "plt.figure(figsize=(8, 4))\n",
        "sns.countplot(data=data, x=\"Rating\", hue=\"Rating\", palette=\"viridis\", dodge=False, legend=False)\n",
        "plt.title(\"Distribution of Ratings\")\n",
        "plt.xlabel(\"Rating (1 to 5)\")\n",
        "plt.ylabel(\"Count\")\n",
        "plt.show()"
      ],
      "metadata": {
        "colab": {
          "base_uri": "https://localhost:8080/",
          "height": 410
        },
        "id": "C5b9AcKqN5BR",
        "outputId": "c463cdd5-a7cf-4068-af99-859b226d46f4"
      },
      "execution_count": 6,
      "outputs": [
        {
          "output_type": "display_data",
          "data": {
            "text/plain": [
              "<Figure size 800x400 with 1 Axes>"
            ],
            "image/png": "[encoded data removed]"
          },
          "metadata": {}
        }
      ]
    },
    {
      "cell_type": "code",
      "source": [
        "data['Age'].plot(kind='hist', bins=20, title='Age')\n",
        "plt.gca().spines[['top', 'right',]].set_visible(False)"
      ],
      "metadata": {
        "colab": {
          "base_uri": "https://localhost:8080/",
          "height": 452
        },
        "id": "b5qnNKQtAqrQ",
        "outputId": "daa54c5c-6c48-4dd1-b0da-a7352c992fc9"
      },
      "execution_count": 7,
      "outputs": [
        {
          "output_type": "display_data",
          "data": {
            "text/plain": [
              "<Figure size 640x480 with 1 Axes>"
            ],
            "image/png": "[encoded data removed]"
          },
          "metadata": {}
        }
      ]
    },
    {
      "cell_type": "markdown",
      "source": [
        "Prepare input-review texts and output-recommended IND for model to train."
      ],
      "metadata": {
        "id": "YK8gUjy3OtnP"
      }
    },
    {
      "cell_type": "code",
      "source": [
        "review_texts = data[\"Review Text\"].values\n",
        "labels = data[\"Recommended IND\"].values\n",
        "data[[\"Review Text\", \"Recommended IND\"]].head()"
      ],
      "metadata": {
        "colab": {
          "base_uri": "https://localhost:8080/",
          "height": 206
        },
        "id": "n9vzSEoTOm7N",
        "outputId": "d35e42c9-21ff-4ada-cfbd-d408dcfb2370"
      },
      "execution_count": 8,
      "outputs": [
        {
          "output_type": "execute_result",
          "data": {
            "text/plain": [
              "                                         Review Text  Recommended IND\n",
              "0  this dress arrived today, and it is both flatt...                1\n",
              "1  as other reviews stated, this dress runs very ...                0\n",
              "2  i purchased the stripped blouse and it was ver...                0\n",
              "3  this is truly a lovely dress. the colors are b...                1\n",
              "4  i really like this shirt. the material was a l...                1"
            ],
            "text/html": [
              "\n",
              "  <div id=\"df-3a0d236b-cf34-4cac-b70e-1ed9b7cb5e62\" class=\"colab-df-container\">\n",
              "    <div>\n",
              "<style scoped>\n",
              "    .dataframe tbody tr th:only-of-type {\n",
              "        vertical-align: middle;\n",
              "    }\n",
              "\n",
              "    .dataframe tbody tr th {\n",
              "        vertical-align: top;\n",
              "    }\n",
              "\n",
              "    .dataframe thead th {\n",
              "        text-align: right;\n",
              "    }\n",
              "</style>\n",
              "<table border=\"1\" class=\"dataframe\">\n",
              "  <thead>\n",
              "    <tr style=\"text-align: right;\">\n",
              "      <th></th>\n",
              "      <th>Review Text</th>\n",
              "      <th>Recommended IND</th>\n",
              "    </tr>\n",
              "  </thead>\n",
              "  <tbody>\n",
              "    <tr>\n",
              "      <th>0</th>\n",
              "      <td>this dress arrived today, and it is both flatt...</td>\n",
              "      <td>1</td>\n",
              "    </tr>\n",
              "    <tr>\n",
              "      <th>1</th>\n",
              "      <td>as other reviews stated, this dress runs very ...</td>\n",
              "      <td>0</td>\n",
              "    </tr>\n",
              "    <tr>\n",
              "      <th>2</th>\n",
              "      <td>i purchased the stripped blouse and it was ver...</td>\n",
              "      <td>0</td>\n",
              "    </tr>\n",
              "    <tr>\n",
              "      <th>3</th>\n",
              "      <td>this is truly a lovely dress. the colors are b...</td>\n",
              "      <td>1</td>\n",
              "    </tr>\n",
              "    <tr>\n",
              "      <th>4</th>\n",
              "      <td>i really like this shirt. the material was a l...</td>\n",
              "      <td>1</td>\n",
              "    </tr>\n",
              "  </tbody>\n",
              "</table>\n",
              "</div>\n",
              "    <div class=\"colab-df-buttons\">\n",
              "\n",
              "  <div class=\"colab-df-container\">\n",
              "    <button class=\"colab-df-convert\" onclick=\"convertToInteractive('df-3a0d236b-cf34-4cac-b70e-1ed9b7cb5e62')\"\n",
              "            title=\"Convert this dataframe to an interactive table.\"\n",
              "            style=\"display:none;\">\n",
              "\n",
              "  <svg xmlns=\"http://www.w3.org/2000/svg\" height=\"24px\" viewBox=\"0 -960 960 960\">\n",
              "    <path d=\"M120-120v-720h720v720H120Zm60-500h600v-160H180v160Zm220 220h160v-160H400v160Zm0 220h160v-160H400v160ZM180-400h160v-160H180v160Zm440 0h160v-160H620v160ZM180-180h160v-160H180v160Zm440 0h160v-160H620v160Z\"/>\n",
              "  </svg>\n",
              "    </button>\n",
              "\n",
              "  <style>\n",
              "    .colab-df-container {\n",
              "      display:flex;\n",
              "      gap: 12px;\n",
              "    }\n",
              "\n",
              "    .colab-df-convert {\n",
              "      background-color: #E8F0FE;\n",
              "      border: none;\n",
              "      border-radius: 50%;\n",
              "      cursor: pointer;\n",
              "      display: none;\n",
              "      fill: #1967D2;\n",
              "      height: 32px;\n",
              "      padding: 0 0 0 0;\n",
              "      width: 32px;\n",
              "    }\n",
              "\n",
              "    .colab-df-convert:hover {\n",
              "      background-color: #E2EBFA;\n",
              "      box-shadow: 0px 1px 2px rgba(60, 64, 67, 0.3), 0px 1px 3px 1px rgba(60, 64, 67, 0.15);\n",
              "      fill: #174EA6;\n",
              "    }\n",
              "\n",
              "    .colab-df-buttons div {\n",
              "      margin-bottom: 4px;\n",
              "    }\n",
              "\n",
              "    [theme=dark] .colab-df-convert {\n",
              "      background-color: #3B4455;\n",
              "      fill: #D2E3FC;\n",
              "    }\n",
              "\n",
              "    [theme=dark] .colab-df-convert:hover {\n",
              "      background-color: #434B5C;\n",
              "      box-shadow: 0px 1px 3px 1px rgba(0, 0, 0, 0.15);\n",
              "      filter: drop-shadow(0px 1px 2px rgba(0, 0, 0, 0.3));\n",
              "      fill: #FFFFFF;\n",
              "    }\n",
              "  </style>\n",
              "\n",
              "    <script>\n",
              "      const buttonEl =\n",
              "        document.querySelector('#df-3a0d236b-cf34-4cac-b70e-1ed9b7cb5e62 button.colab-df-convert');\n",
              "      buttonEl.style.display =\n",
              "        google.colab.kernel.accessAllowed ? 'block' : 'none';\n",
              "\n",
              "      async function convertToInteractive(key) {\n",
              "        const element = document.querySelector('#df-3a0d236b-cf34-4cac-b70e-1ed9b7cb5e62');\n",
              "        const dataTable =\n",
              "          await google.colab.kernel.invokeFunction('convertToInteractive',\n",
              "                                                    [key], {});\n",
              "        if (!dataTable) return;\n",
              "\n",
              "        const docLinkHtml = 'Like what you see? Visit the ' +\n",
              "          '<a target=\"_blank\" href=https://colab.research.google.com/notebooks/data_table.ipynb>data table notebook</a>'\n",
              "          + ' to learn more about interactive tables.';\n",
              "        element.innerHTML = '';\n",
              "        dataTable['output_type'] = 'display_data';\n",
              "        await google.colab.output.renderOutput(dataTable, element);\n",
              "        const docLink = document.createElement('div');\n",
              "        docLink.innerHTML = docLinkHtml;\n",
              "        element.appendChild(docLink);\n",
              "      }\n",
              "    </script>\n",
              "  </div>\n",
              "\n",
              "\n",
              "<div id=\"df-7c7f49d7-0da4-4c02-8ca9-ebe76edee54f\">\n",
              "  <button class=\"colab-df-quickchart\" onclick=\"quickchart('df-7c7f49d7-0da4-4c02-8ca9-ebe76edee54f')\"\n",
              "            title=\"Suggest charts\"\n",
              "            style=\"display:none;\">\n",
              "\n",
              "<svg xmlns=\"http://www.w3.org/2000/svg\" height=\"24px\"viewBox=\"0 0 24 24\"\n",
              "     width=\"24px\">\n",
              "    <g>\n",
              "        <path d=\"M19 3H5c-1.1 0-2 .9-2 2v14c0 1.1.9 2 2 2h14c1.1 0 2-.9 2-2V5c0-1.1-.9-2-2-2zM9 17H7v-7h2v7zm4 0h-2V7h2v10zm4 0h-2v-4h2v4z\"/>\n",
              "    </g>\n",
              "</svg>\n",
              "  </button>\n",
              "\n",
              "<style>\n",
              "  .colab-df-quickchart {\n",
              "      --bg-color: #E8F0FE;\n",
              "      --fill-color: #1967D2;\n",
              "      --hover-bg-color: #E2EBFA;\n",
              "      --hover-fill-color: #174EA6;\n",
              "      --disabled-fill-color: #AAA;\n",
              "      --disabled-bg-color: #DDD;\n",
              "  }\n",
              "\n",
              "  [theme=dark] .colab-df-quickchart {\n",
              "      --bg-color: #3B4455;\n",
              "      --fill-color: #D2E3FC;\n",
              "      --hover-bg-color: #434B5C;\n",
              "      --hover-fill-color: #FFFFFF;\n",
              "      --disabled-bg-color: #3B4455;\n",
              "      --disabled-fill-color: #666;\n",
              "  }\n",
              "\n",
              "  .colab-df-quickchart {\n",
              "    background-color: var(--bg-color);\n",
              "    border: none;\n",
              "    border-radius: 50%;\n",
              "    cursor: pointer;\n",
              "    display: none;\n",
              "    fill: var(--fill-color);\n",
              "    height: 32px;\n",
              "    padding: 0;\n",
              "    width: 32px;\n",
              "  }\n",
              "\n",
              "  .colab-df-quickchart:hover {\n",
              "    background-color: var(--hover-bg-color);\n",
              "    box-shadow: 0 1px 2px rgba(60, 64, 67, 0.3), 0 1px 3px 1px rgba(60, 64, 67, 0.15);\n",
              "    fill: var(--button-hover-fill-color);\n",
              "  }\n",
              "\n",
              "  .colab-df-quickchart-complete:disabled,\n",
              "  .colab-df-quickchart-complete:disabled:hover {\n",
              "    background-color: var(--disabled-bg-color);\n",
              "    fill: var(--disabled-fill-color);\n",
              "    box-shadow: none;\n",
              "  }\n",
              "\n",
              "  .colab-df-spinner {\n",
              "    border: 2px solid var(--fill-color);\n",
              "    border-color: transparent;\n",
              "    border-bottom-color: var(--fill-color);\n",
              "    animation:\n",
              "      spin 1s steps(1) infinite;\n",
              "  }\n",
              "\n",
              "  @keyframes spin {\n",
              "    0% {\n",
              "      border-color: transparent;\n",
              "      border-bottom-color: var(--fill-color);\n",
              "      border-left-color: var(--fill-color);\n",
              "    }\n",
              "    20% {\n",
              "      border-color: transparent;\n",
              "      border-left-color: var(--fill-color);\n",
              "      border-top-color: var(--fill-color);\n",
              "    }\n",
              "    30% {\n",
              "      border-color: transparent;\n",
              "      border-left-color: var(--fill-color);\n",
              "      border-top-color: var(--fill-color);\n",
              "      border-right-color: var(--fill-color);\n",
              "    }\n",
              "    40% {\n",
              "      border-color: transparent;\n",
              "      border-right-color: var(--fill-color);\n",
              "      border-top-color: var(--fill-color);\n",
              "    }\n",
              "    60% {\n",
              "      border-color: transparent;\n",
              "      border-right-color: var(--fill-color);\n",
              "    }\n",
              "    80% {\n",
              "      border-color: transparent;\n",
              "      border-right-color: var(--fill-color);\n",
              "      border-bottom-color: var(--fill-color);\n",
              "    }\n",
              "    90% {\n",
              "      border-color: transparent;\n",
              "      border-bottom-color: var(--fill-color);\n",
              "    }\n",
              "  }\n",
              "</style>\n",
              "\n",
              "  <script>\n",
              "    async function quickchart(key) {\n",
              "      const quickchartButtonEl =\n",
              "        document.querySelector('#' + key + ' button');\n",
              "      quickchartButtonEl.disabled = true;  // To prevent multiple clicks.\n",
              "      quickchartButtonEl.classList.add('colab-df-spinner');\n",
              "      try {\n",
              "        const charts = await google.colab.kernel.invokeFunction(\n",
              "            'suggestCharts', [key], {});\n",
              "      } catch (error) {\n",
              "        console.error('Error during call to suggestCharts:', error);\n",
              "      }\n",
              "      quickchartButtonEl.classList.remove('colab-df-spinner');\n",
              "      quickchartButtonEl.classList.add('colab-df-quickchart-complete');\n",
              "    }\n",
              "    (() => {\n",
              "      let quickchartButtonEl =\n",
              "        document.querySelector('#df-7c7f49d7-0da4-4c02-8ca9-ebe76edee54f button');\n",
              "      quickchartButtonEl.style.display =\n",
              "        google.colab.kernel.accessAllowed ? 'block' : 'none';\n",
              "    })();\n",
              "  </script>\n",
              "</div>\n",
              "\n",
              "    </div>\n",
              "  </div>\n"
            ],
            "application/vnd.google.colaboratory.intrinsic+json": {
              "type": "dataframe",
              "summary": "{\n  \"name\": \"data[[\\\"Review Text\\\", \\\"Recommended IND\\\"]]\",\n  \"rows\": 5,\n  \"fields\": [\n    {\n      \"column\": \"Review Text\",\n      \"properties\": {\n        \"dtype\": \"string\",\n        \"num_unique_values\": 5,\n        \"samples\": [\n          \"as other reviews stated, this dress runs very large. it was a big potatoe sack on me. added to the fact that the green is much brighter than the online photos, it is going back!\",\n          \"i really like this shirt. the material was a little heavier cotton than i expected in looking at the picture which is good otherwise it could look like you slept in the shirt. it is something that is going to wrinkle when you wear it so if that is bothersome then pass on this shirt. it is a bit longer which i also like because it will work by itself or under a jacket or sweater.\",\n          \"i purchased the stripped blouse and it was very large around the armhole. it bulged open as if it needed a dart. i even washed it to see if it would shrink to fit and it was better but not good enough. i hate my bra showing through the armhole. it is going back. cute blouse except for that. i love sleeveless blouses with turtlenecks.\"\n        ],\n        \"semantic_type\": \"\",\n        \"description\": \"\"\n      }\n    },\n    {\n      \"column\": \"Recommended IND\",\n      \"properties\": {\n        \"dtype\": \"number\",\n        \"std\": 0,\n        \"min\": 0,\n        \"max\": 1,\n        \"num_unique_values\": 2,\n        \"samples\": [\n          0,\n          1\n        ],\n        \"semantic_type\": \"\",\n        \"description\": \"\"\n      }\n    }\n  ]\n}"
            }
          },
          "metadata": {},
          "execution_count": 8
        }
      ]
    },
    {
      "cell_type": "markdown",
      "source": [
        "Split training and Testing Sets"
      ],
      "metadata": {
        "id": "gjbEzByYSZ6Q"
      }
    },
    {
      "cell_type": "code",
      "source": [
        "x_train, x_test, y_train, y_test = train_test_split(review_texts, labels, test_size=0.2, random_state=19)\n",
        "print(f\"x_train shape: {len(x_train)}\")\n",
        "print(f\"x_test shape: {len(x_test)}\")\n",
        "print(f\"y_train shape: {len(y_train)}\")\n",
        "print(f\"y_test shape: {len(y_test)}\")"
      ],
      "metadata": {
        "colab": {
          "base_uri": "https://localhost:8080/"
        },
        "id": "ABRsltCRRIEU",
        "outputId": "1163ab21-6447-4e32-8519-979d0affbe0d"
      },
      "execution_count": 9,
      "outputs": [
        {
          "output_type": "stream",
          "name": "stdout",
          "text": [
            "x_train shape: 4000\n",
            "x_test shape: 1000\n",
            "y_train shape: 4000\n",
            "y_test shape: 1000\n"
          ]
        }
      ]
    },
    {
      "cell_type": "markdown",
      "source": [
        "Extract the vocabulary list and assign indexes to the words, where the first and second positions are reserved for PAD and UNK, PAD is used to populate the text to a fixed length during model training and UNK is used for unknown words"
      ],
      "metadata": {
        "id": "kzGnRpghSZPC"
      }
    },
    {
      "cell_type": "code",
      "source": [
        "def build_index(texts):\n",
        "    counter = Counter()\n",
        "    for text in texts:\n",
        "        tokens = word_tokenize(text.lower())\n",
        "        counter.update(tokens)\n",
        "    word_dict = {word: idx + 2 for idx, (word, freq) in enumerate(counter.items()) if freq >= 1}\n",
        "    word_dict = dict(word_dict)\n",
        "    word_dict[\"<PAD>\"] = 0\n",
        "    word_dict[\"<UNK>\"] = 1\n",
        "    return word_dict"
      ],
      "metadata": {
        "id": "3OFwdEN3TiUE"
      },
      "execution_count": 10,
      "outputs": []
    },
    {
      "cell_type": "code",
      "source": [
        "train_vocabulary = build_index(x_train)\n",
        "print(list(train_vocabulary.items())[:10]) # Check vocabulary and their indexes\n",
        "print(f\"{train_vocabulary['<PAD>']}\") # Check index for \"PAD\"\n",
        "print(f\"{train_vocabulary['<UNK>']}\") # Check index for \"UNK\""
      ],
      "metadata": {
        "colab": {
          "base_uri": "https://localhost:8080/"
        },
        "id": "rb3YmIHIWMYK",
        "outputId": "3e3f29a8-82a5-4096-a301-e10377ee16e6"
      },
      "execution_count": 11,
      "outputs": [
        {
          "output_type": "stream",
          "name": "stdout",
          "text": [
            "[('the', 2), ('colors', 3), ('are', 4), ('vivid', 5), ('and', 6), ('perfectly', 7), ('autumnal', 8), ('but', 9), ('fit', 10), ('is', 11)]\n",
            "0\n",
            "1\n"
          ]
        }
      ]
    },
    {
      "cell_type": "markdown",
      "source": [
        "Encode the text for training, which means to converts words in the text to their corresponding indexes in the vocabulary."
      ],
      "metadata": {
        "id": "tWXoSxkVeRtk"
      }
    },
    {
      "cell_type": "code",
      "source": [
        "# Encode the text for training\n",
        "def encode(text, vocab):\n",
        "    tokens = word_tokenize(text.lower())\n",
        "    encoded_tokens = [vocab.get(token, vocab[\"<UNK>\"]) for token in tokens] # If the word can not be found in vocabulary, get the index for \"UNK\"\n",
        "    return encoded_tokens\n",
        "x_train_encoded = [encode(text, train_vocabulary) for text in x_train]\n",
        "x_test_encoded = [encode(text, train_vocabulary) for text in x_test]\n",
        "print(x_train_encoded[:2])\n",
        "print(x_test_encoded[:2])"
      ],
      "metadata": {
        "colab": {
          "base_uri": "https://localhost:8080/"
        },
        "id": "5_q5O3z7b4Jy",
        "outputId": "53b43c9a-128f-492a-ba4a-2680d570ef8f"
      },
      "execution_count": 12,
      "outputs": [
        {
          "output_type": "stream",
          "name": "stdout",
          "text": [
            "[[2, 3, 4, 5, 6, 7, 8, 9, 2, 10, 11, 12, 13, 14, 15, 16, 17, 18, 19, 20, 2, 21, 22, 23, 24, 2, 25, 6, 26, 27, 28, 29, 30, 31, 16, 32, 20, 2, 33, 16, 34, 35, 2, 36, 6, 37, 38, 39, 40, 41, 6, 2, 42, 16, 12, 43, 44, 14, 45, 2, 46, 36, 47, 48, 39, 2, 49, 42, 50, 2, 51, 20, 52, 53, 54, 55, 15, 56, 14, 2, 57, 58, 16, 12, 59, 9, 2, 36, 16, 60, 61, 62, 52, 63, 15, 64, 14, 65], [2, 66, 11, 12, 67, 68, 6, 19, 20, 6, 69, 70, 71, 24, 2, 72, 73, 14, 74, 75, 36, 20, 76, 15, 10, 77, 14, 53, 78, 79, 80, 81, 82, 83, 14, 84, 20, 85, 86, 87, 14]]\n",
            "[[4208, 91, 52, 100, 117, 191, 374, 1135, 11, 1783, 69, 122, 112, 14, 52, 265, 29, 20, 304, 6, 19, 80, 6, 285, 285, 285, 20, 251, 20, 139, 2917, 171, 2, 663, 6, 169, 52, 518, 15, 11, 237, 18, 251, 134, 2, 139, 6, 226, 4, 113, 732, 9, 2, 10, 11, 204, 407, 14, 52, 53, 259, 69, 317, 80, 1134, 795, 14], [69, 36, 11, 108, 420, 20, 5702, 20, 2, 94, 337, 20, 2, 139, 207, 6, 420, 14, 52, 195, 15, 45, 994, 104, 40, 41, 198, 52, 108, 55, 2, 750, 20, 139, 20, 6, 94, 14, 52, 100, 558, 558, 104, 381, 1088, 6, 12, 449, 796, 41, 20, 113, 52, 800, 142, 734, 69, 36, 24, 12, 197, 165, 20, 9, 238, 245, 340, 64, 89, 197, 3214, 6, 3468, 14, 113, 52, 265, 2, 29, 24, 12, 274, 165, 14, 2, 1, 5562, 89, 656, 1106, 11, 113, 436, 269, 40, 1366, 16, 517, 3422, 91, 52, 125, 595, 2257, 2, 966, 4204]]\n"
          ]
        }
      ]
    },
    {
      "cell_type": "code",
      "source": [
        "class ReviewsDataset(Dataset):\n",
        "    def __init__(self, reviews, labels):\n",
        "        self.reviews = reviews\n",
        "        self.labels = labels\n",
        "\n",
        "    def __len__(self):\n",
        "        return len(self.reviews)\n",
        "\n",
        "    def __getitem__(self, idx):\n",
        "        review = self.reviews[idx]\n",
        "        label = self.labels[idx]\n",
        "        return torch.tensor(review), torch.tensor(label)\n",
        "\n",
        "# Fill in the text, making sure that all the text has the same length\n",
        "def collate_fn(batch):\n",
        "  reviews, labels = zip(*batch)\n",
        "  reviews = pad_sequence(reviews, batch_first=True, padding_value=0)\n",
        "  labels = torch.tensor(labels)\n",
        "  return reviews, labels\n",
        "\n",
        "train_dataset = ReviewsDataset(x_train_encoded, y_train)\n",
        "test_dataset = ReviewsDataset(x_test_encoded, y_test)\n",
        "train_loader = DataLoader(train_dataset, batch_size=32, collate_fn=collate_fn, shuffle = True)\n",
        "test_loader = DataLoader(test_dataset, batch_size=32, collate_fn=collate_fn, shuffle = True)\n",
        "\n",
        "# Accessing the data\n",
        "for reviews, labels in train_loader:\n",
        "    print(\"Reviews shape:\", reviews.shape) # [batch size, text sequence length]\n",
        "    print(\"Labels shape:\", labels.shape)\n",
        "    break\n",
        "for reviews, labels in test_loader:\n",
        "    print(\"Reviews shape:\", reviews.shape) # [batch size, text sequence length]\n",
        "    print(\"Labels shape:\", labels.shape)\n",
        "    break"
      ],
      "metadata": {
        "id": "DKtJ9xeAdPWx",
        "colab": {
          "base_uri": "https://localhost:8080/"
        },
        "outputId": "18632934-4bdd-4c82-ceb3-92b9f24a3d85"
      },
      "execution_count": 13,
      "outputs": [
        {
          "output_type": "stream",
          "name": "stdout",
          "text": [
            "Reviews shape: torch.Size([32, 113])\n",
            "Labels shape: torch.Size([32])\n",
            "Reviews shape: torch.Size([32, 118])\n",
            "Labels shape: torch.Size([32])\n"
          ]
        }
      ]
    },
    {
      "cell_type": "markdown",
      "source": [
        "## GRU Model Construction"
      ],
      "metadata": {
        "id": "uC0QrT73Th9G"
      }
    },
    {
      "cell_type": "code",
      "source": [
        "class GRUModel(nn.Module):\n",
        "    def __init__(self, vocab_size, embedding_dim, hidden_dim, num_layers, output_dim):\n",
        "        super(GRUModel, self).__init__()\n",
        "        self.embedding = nn.Embedding(vocab_size, embedding_dim, padding_idx=train_vocabulary[\"<PAD>\"]) # train_vocalulary[\"<PAD\"] = 0\n",
        "        self.gru = nn.GRU(embedding_dim, hidden_dim, num_layers=num_layers, batch_first=True)\n",
        "        self.fc = nn.Linear(hidden_dim, output_dim)\n",
        "\n",
        "    def forward(self, x):\n",
        "        embedded = self.embedding(x)\n",
        "        output, hidden = self.gru(embedded)\n",
        "        hidden = hidden[-1, :, :]\n",
        "        out = self.fc(hidden)\n",
        "        return out"
      ],
      "metadata": {
        "id": "HFLL1AHNTSmA"
      },
      "execution_count": 14,
      "outputs": []
    },
    {
      "cell_type": "markdown",
      "source": [
        "Define some parameter for training"
      ],
      "metadata": {
        "id": "FcQ5hlY5V4LM"
      }
    },
    {
      "cell_type": "code",
      "source": [
        "vocab_size = len(train_vocabulary)\n",
        "embedding_dim = 100\n",
        "hidden_dim = 128\n",
        "num_layers = 2\n",
        "output_dim = 1 # 2-classification task\n",
        "num_epochs = 20 # Can adjust here, still finding the optimal value"
      ],
      "metadata": {
        "id": "xf6J2z15TSnz"
      },
      "execution_count": 15,
      "outputs": []
    },
    {
      "cell_type": "markdown",
      "source": [
        "## Train"
      ],
      "metadata": {
        "id": "HORDHVCHakpR"
      }
    },
    {
      "cell_type": "code",
      "source": [
        "model = GRUModel(vocab_size, embedding_dim, hidden_dim, num_layers, output_dim)\n",
        "\n",
        "# Loss and optimizer\n",
        "criterion = nn.BCEWithLogitsLoss()\n",
        "optimizer = torch.optim.Adam(model.parameters(), lr=0.001)\n",
        "\n",
        "# Train\n",
        "device = torch.device(\"cuda\" if torch.cuda.is_available() else \"cpu\") # Use google colab cuda to train\n",
        "model.to(device)\n",
        "\n",
        "train_losses = []\n",
        "for epoch in range(num_epochs):\n",
        "    losses = []\n",
        "    for reviews, labels in train_loader:\n",
        "        reviews, labels = reviews.to(device), labels.to(device).float().unsqueeze(1)\n",
        "        optimizer.zero_grad()\n",
        "        outputs = model(reviews)\n",
        "        loss = criterion(outputs, labels)\n",
        "        loss.backward()\n",
        "        optimizer.step()\n",
        "        losses.append(loss.item())\n",
        "    avg_loss = sum(losses)/len(losses)\n",
        "    train_losses.append(avg_loss)\n",
        "    print(f'Epoch [{epoch+1}/{num_epochs}], Loss: {avg_loss:.4f}')"
      ],
      "metadata": {
        "colab": {
          "base_uri": "https://localhost:8080/"
        },
        "id": "HEE_ETAUTSqA",
        "outputId": "c412e791-aa28-4e46-c88b-652da408e374"
      },
      "execution_count": 16,
      "outputs": [
        {
          "output_type": "stream",
          "name": "stdout",
          "text": [
            "Epoch [1/20], Loss: 0.6949\n",
            "Epoch [2/20], Loss: 0.6865\n",
            "Epoch [3/20], Loss: 0.6929\n",
            "Epoch [4/20], Loss: 0.6846\n",
            "Epoch [5/20], Loss: 0.6472\n",
            "Epoch [6/20], Loss: 0.6074\n",
            "Epoch [7/20], Loss: 0.5125\n",
            "Epoch [8/20], Loss: 0.3788\n",
            "Epoch [9/20], Loss: 0.2814\n",
            "Epoch [10/20], Loss: 0.1987\n",
            "Epoch [11/20], Loss: 0.1664\n",
            "Epoch [12/20], Loss: 0.1011\n",
            "Epoch [13/20], Loss: 0.0833\n",
            "Epoch [14/20], Loss: 0.0754\n",
            "Epoch [15/20], Loss: 0.0501\n",
            "Epoch [16/20], Loss: 0.0602\n",
            "Epoch [17/20], Loss: 0.0366\n",
            "Epoch [18/20], Loss: 0.0222\n",
            "Epoch [19/20], Loss: 0.0304\n",
            "Epoch [20/20], Loss: 0.0341\n"
          ]
        }
      ]
    },
    {
      "cell_type": "code",
      "source": [
        "plt.plot(train_losses)\n",
        "plt.xlabel(\"Epoch\")\n",
        "plt.ylabel(\"Training Loss\")\n",
        "plt.title(\"Training Loss vs Epoch\")\n",
        "plt.show()\n"
      ],
      "metadata": {
        "colab": {
          "base_uri": "https://localhost:8080/",
          "height": 472
        },
        "id": "9mXfB7HnTSsU",
        "outputId": "2ec4e8de-3cfc-4972-a20e-b6c70e89e34f"
      },
      "execution_count": 17,
      "outputs": [
        {
          "output_type": "display_data",
          "data": {
            "text/plain": [
              "<Figure size 640x480 with 1 Axes>"
            ],
            "image/png": "[encoded data removed]"
          },
          "metadata": {}
        }
      ]
    },
    {
      "cell_type": "markdown",
      "source": [
        "## Evaluate\n"
      ],
      "metadata": {
        "id": "aj6uDLKEffSf"
      }
    },
    {
      "cell_type": "code",
      "source": [
        "true_recommended = 0  # Correct predictions for \"recommended\" reviews\n",
        "true_not_recommended = 0  # Correct predictions for \"not recommended\" reviews\n",
        "total_recommended = 0  # Total number of \"recommended\" reviews\n",
        "total_not_recommended = 0  # Total number of \"not recommended\" reviews\n",
        "\n",
        "all_labels = []  # Store all ground truth labels\n",
        "all_predictions = []  # Store all predicted results\n",
        "\n",
        "with torch.no_grad():\n",
        "    for reviews, labels in test_loader:\n",
        "        reviews, labels = reviews.to(device), labels.to(device).float().unsqueeze(1)\n",
        "        outputs = model(reviews)\n",
        "        predictions = (torch.sigmoid(outputs) > 0.5).int()\n",
        "        all_labels.extend(labels.cpu().numpy())\n",
        "        all_predictions.extend(predictions.cpu().numpy())\n",
        "        true_recommended += ((predictions == 1) & (labels == 1)).sum().item()\n",
        "        true_not_recommended += ((predictions == 0) & (labels == 0)).sum().item()\n",
        "        total_recommended += (labels == 1).sum().item()\n",
        "        total_not_recommended += (labels == 0).sum().item()\n",
        "\n",
        "\n",
        "print(f\"Recommended - Predicted Correctly: {true_recommended}/{total_recommended}\")\n",
        "print(f\"Not Recommended - Predicted Correctly: {true_not_recommended}/{total_not_recommended}\")\n",
        "precision = precision_score(all_labels, all_predictions)\n",
        "recall = recall_score(all_labels, all_predictions)\n",
        "accuracy = accuracy_score(all_labels, all_predictions)\n",
        "print(f\"Precision: {precision:.4f}\")\n",
        "print(f\"Recall: {recall:.4f}\")\n",
        "print(f\"Accuracy: {accuracy:.4f}\")\n"
      ],
      "metadata": {
        "id": "mvdj9-B6dPbp",
        "colab": {
          "base_uri": "https://localhost:8080/"
        },
        "outputId": "6e65c098-68e8-49a4-f2b6-ea7c03d5a5a1"
      },
      "execution_count": 18,
      "outputs": [
        {
          "output_type": "stream",
          "name": "stdout",
          "text": [
            "Recommended - Predicted Correctly: 406/522\n",
            "Not Recommended - Predicted Correctly: 413/478\n",
            "Precision: 0.8620\n",
            "Recall: 0.7778\n",
            "Accuracy: 0.8190\n"
          ]
        }
      ]
    },
    {
      "cell_type": "code",
      "source": [
        "conf_matrix = confusion_matrix(all_labels, all_predictions)\n",
        "\n",
        "# Plot confusion matrix\n",
        "plt.figure(figsize=(8, 6))\n",
        "sns.heatmap(conf_matrix, annot=True, fmt=\"d\", cmap=\"Blues\",\n",
        "            xticklabels=[\"Predicted Not Recommended\", \"Predicted Recommended\"],\n",
        "            yticklabels=[\"Actual Not Recommended\", \"Actual Recommended\"])\n",
        "plt.title(\"Confusion Matrix\")\n",
        "plt.xlabel(\"Predicted Labels\")\n",
        "plt.ylabel(\"True Labels\")\n",
        "plt.show()"
      ],
      "metadata": {
        "colab": {
          "base_uri": "https://localhost:8080/",
          "height": 564
        },
        "id": "bO0rHnLg6q-e",
        "outputId": "133a25aa-bace-4f62-ee59-7178d0c83d24"
      },
      "execution_count": 19,
      "outputs": [
        {
          "output_type": "display_data",
          "data": {
            "text/plain": [
              "<Figure size 800x600 with 2 Axes>"
            ],
            "image/png": "[encoded data removed]"
          },
          "metadata": {}
        }
      ]
    },
    {
      "cell_type": "markdown",
      "source": [
        "Use a trained model to predict whether a given product review is classified as \"Recommended\" or \"Not Recommended."
      ],
      "metadata": {
        "id": "aopQgWxj2v9g"
      }
    },
    {
      "cell_type": "code",
      "source": [
        "test_reviews = [\n",
        "    # Recommended (Positive sentiment)\n",
        "    \"This product is amazing!\",\n",
        "    \"I love this item, it's perfect for me.\",\n",
        "    \"Absolutely fantastic quality, highly recommend.\",\n",
        "    \"Good value for the price, exceeded my expectations.\",\n",
        "    \"Pretty good, I’m satisfied with my purchase.\",\n",
        "    \"Decent quality, works as advertised.\",\n",
        "    \"It's okay, does the job but nothing special.\",\n",
        "    \"Overall a good purchase, I would recommend it.\",\n",
        "    \"The features are nice, better than I expected.\",\n",
        "    \"I’m happy with this, great choice for the price.\",\n",
        "\n",
        "    # Not Recommended (Negative sentiment)\n",
        "    \"Terrible product, broke after one use.\",\n",
        "    \"Awful quality, not worth the money.\",\n",
        "    \"I’m disappointed, completely useless.\",\n",
        "    \"Not great, feels cheap and flimsy.\",\n",
        "    \"Would not recommend, didn’t meet my expectations.\",\n",
        "    \"The quality is poor, I expected more.\",\n",
        "    \"It’s acceptable but barely usable.\",\n",
        "    \"Nothing special, very average at best.\",\n",
        "    \"Doesn’t work as expected, quite frustrating.\",\n",
        "    \"I regret buying this, waste of money.\",\n",
        "]\n",
        "encoded_reviews = [torch.tensor(encode(review, train_vocabulary)).unsqueeze(0).to(device) for review in test_reviews]\n",
        "\n",
        "# Perform batch prediction\n",
        "print(\"Predictions for Test Reviews:\")\n",
        "with torch.no_grad():\n",
        "    for idx, review_tensor in enumerate(encoded_reviews):\n",
        "        output = model(review_tensor)\n",
        "        probability = torch.sigmoid(output).item()\n",
        "        prediction = int(probability > 0.5)\n",
        "        print(f\"\\nReview {idx+1}: {test_reviews[idx]}\")\n",
        "        print(f\"Predicted probability: {probability:.4f}\")\n",
        "        print(f\"Predicted class (0: Not Recommended, 1: Recommended): {prediction}\")\n",
        "\n"
      ],
      "metadata": {
        "colab": {
          "base_uri": "https://localhost:8080/"
        },
        "id": "nwcaH28yhLHF",
        "outputId": "93a253af-2a82-420a-a44b-15b851917115"
      },
      "execution_count": 20,
      "outputs": [
        {
          "output_type": "stream",
          "name": "stdout",
          "text": [
            "Predictions for Test Reviews:\n",
            "\n",
            "Review 1: This product is amazing!\n",
            "Predicted probability: 0.9787\n",
            "Predicted class (0: Not Recommended, 1: Recommended): 1\n",
            "\n",
            "Review 2: I love this item, it's perfect for me.\n",
            "Predicted probability: 0.9244\n",
            "Predicted class (0: Not Recommended, 1: Recommended): 1\n",
            "\n",
            "Review 3: Absolutely fantastic quality, highly recommend.\n",
            "Predicted probability: 0.9108\n",
            "Predicted class (0: Not Recommended, 1: Recommended): 1\n",
            "\n",
            "Review 4: Good value for the price, exceeded my expectations.\n",
            "Predicted probability: 0.5005\n",
            "Predicted class (0: Not Recommended, 1: Recommended): 1\n",
            "\n",
            "Review 5: Pretty good, I’m satisfied with my purchase.\n",
            "Predicted probability: 0.9729\n",
            "Predicted class (0: Not Recommended, 1: Recommended): 1\n",
            "\n",
            "Review 6: Decent quality, works as advertised.\n",
            "Predicted probability: 0.8623\n",
            "Predicted class (0: Not Recommended, 1: Recommended): 1\n",
            "\n",
            "Review 7: It's okay, does the job but nothing special.\n",
            "Predicted probability: 0.0083\n",
            "Predicted class (0: Not Recommended, 1: Recommended): 0\n",
            "\n",
            "Review 8: Overall a good purchase, I would recommend it.\n",
            "Predicted probability: 0.9867\n",
            "Predicted class (0: Not Recommended, 1: Recommended): 1\n",
            "\n",
            "Review 9: The features are nice, better than I expected.\n",
            "Predicted probability: 0.9559\n",
            "Predicted class (0: Not Recommended, 1: Recommended): 1\n",
            "\n",
            "Review 10: I’m happy with this, great choice for the price.\n",
            "Predicted probability: 0.9778\n",
            "Predicted class (0: Not Recommended, 1: Recommended): 1\n",
            "\n",
            "Review 11: Terrible product, broke after one use.\n",
            "Predicted probability: 0.0246\n",
            "Predicted class (0: Not Recommended, 1: Recommended): 0\n",
            "\n",
            "Review 12: Awful quality, not worth the money.\n",
            "Predicted probability: 0.0275\n",
            "Predicted class (0: Not Recommended, 1: Recommended): 0\n",
            "\n",
            "Review 13: I’m disappointed, completely useless.\n",
            "Predicted probability: 0.0303\n",
            "Predicted class (0: Not Recommended, 1: Recommended): 0\n",
            "\n",
            "Review 14: Not great, feels cheap and flimsy.\n",
            "Predicted probability: 0.0274\n",
            "Predicted class (0: Not Recommended, 1: Recommended): 0\n",
            "\n",
            "Review 15: Would not recommend, didn’t meet my expectations.\n",
            "Predicted probability: 0.4305\n",
            "Predicted class (0: Not Recommended, 1: Recommended): 0\n",
            "\n",
            "Review 16: The quality is poor, I expected more.\n",
            "Predicted probability: 0.0084\n",
            "Predicted class (0: Not Recommended, 1: Recommended): 0\n",
            "\n",
            "Review 17: It’s acceptable but barely usable.\n",
            "Predicted probability: 0.0027\n",
            "Predicted class (0: Not Recommended, 1: Recommended): 0\n",
            "\n",
            "Review 18: Nothing special, very average at best.\n",
            "Predicted probability: 0.0139\n",
            "Predicted class (0: Not Recommended, 1: Recommended): 0\n",
            "\n",
            "Review 19: Doesn’t work as expected, quite frustrating.\n",
            "Predicted probability: 0.0172\n",
            "Predicted class (0: Not Recommended, 1: Recommended): 0\n",
            "\n",
            "Review 20: I regret buying this, waste of money.\n",
            "Predicted probability: 0.0729\n",
            "Predicted class (0: Not Recommended, 1: Recommended): 0\n"
          ]
        }
      ]
    },
    {
      "cell_type": "markdown",
      "source": [
        "## Real Data Testcases"
      ],
      "metadata": {
        "id": "7wd5gIDXyQCC"
      }
    },
    {
      "cell_type": "code",
      "source": [
        "test_file_path = '/content/drive/MyDrive/684folder//20randomcases.csv'\n",
        "real_test_data = pd.read_csv(test_file_path)\n",
        "real_test_data_sorted = real_test_data.sort_values(by=\"Recommended IND\", ascending=False)\n",
        "real_test_data_sorted.head()"
      ],
      "metadata": {
        "id": "ehk204dwfH1V",
        "colab": {
          "base_uri": "https://localhost:8080/",
          "height": 206
        },
        "outputId": "9190a7ef-bd6f-46fc-9637-c218989a364c"
      },
      "execution_count": 21,
      "outputs": [
        {
          "output_type": "execute_result",
          "data": {
            "text/plain": [
              "    Unnamed: 0  Age                                        Review Text  \\\n",
              "0            0   42  always attracted to wool for its warmth and br...   \n",
              "7            7   55  unusual design and striking color make this th...   \n",
              "16          16   31  expected them to fit somewhat loose but actual...   \n",
              "14          14   42  love the cute print and texture of fabric. per...   \n",
              "12          12   48  i got this in the green blue pink motif and i ...   \n",
              "\n",
              "    Rating  Recommended IND  Positive Feedback Count  \n",
              "0        5                1                       15  \n",
              "7        5                1                        1  \n",
              "16       4                1                        3  \n",
              "14       4                1                        0  \n",
              "12       5                1                        3  "
            ],
            "text/html": [
              "\n",
              "  <div id=\"df-9a04e16d-926c-47d2-9fb4-771f300785fa\" class=\"colab-df-container\">\n",
              "    <div>\n",
              "<style scoped>\n",
              "    .dataframe tbody tr th:only-of-type {\n",
              "        vertical-align: middle;\n",
              "    }\n",
              "\n",
              "    .dataframe tbody tr th {\n",
              "        vertical-align: top;\n",
              "    }\n",
              "\n",
              "    .dataframe thead th {\n",
              "        text-align: right;\n",
              "    }\n",
              "</style>\n",
              "<table border=\"1\" class=\"dataframe\">\n",
              "  <thead>\n",
              "    <tr style=\"text-align: right;\">\n",
              "      <th></th>\n",
              "      <th>Unnamed: 0</th>\n",
              "      <th>Age</th>\n",
              "      <th>Review Text</th>\n",
              "      <th>Rating</th>\n",
              "      <th>Recommended IND</th>\n",
              "      <th>Positive Feedback Count</th>\n",
              "    </tr>\n",
              "  </thead>\n",
              "  <tbody>\n",
              "    <tr>\n",
              "      <th>0</th>\n",
              "      <td>0</td>\n",
              "      <td>42</td>\n",
              "      <td>always attracted to wool for its warmth and br...</td>\n",
              "      <td>5</td>\n",
              "      <td>1</td>\n",
              "      <td>15</td>\n",
              "    </tr>\n",
              "    <tr>\n",
              "      <th>7</th>\n",
              "      <td>7</td>\n",
              "      <td>55</td>\n",
              "      <td>unusual design and striking color make this th...</td>\n",
              "      <td>5</td>\n",
              "      <td>1</td>\n",
              "      <td>1</td>\n",
              "    </tr>\n",
              "    <tr>\n",
              "      <th>16</th>\n",
              "      <td>16</td>\n",
              "      <td>31</td>\n",
              "      <td>expected them to fit somewhat loose but actual...</td>\n",
              "      <td>4</td>\n",
              "      <td>1</td>\n",
              "      <td>3</td>\n",
              "    </tr>\n",
              "    <tr>\n",
              "      <th>14</th>\n",
              "      <td>14</td>\n",
              "      <td>42</td>\n",
              "      <td>love the cute print and texture of fabric. per...</td>\n",
              "      <td>4</td>\n",
              "      <td>1</td>\n",
              "      <td>0</td>\n",
              "    </tr>\n",
              "    <tr>\n",
              "      <th>12</th>\n",
              "      <td>12</td>\n",
              "      <td>48</td>\n",
              "      <td>i got this in the green blue pink motif and i ...</td>\n",
              "      <td>5</td>\n",
              "      <td>1</td>\n",
              "      <td>3</td>\n",
              "    </tr>\n",
              "  </tbody>\n",
              "</table>\n",
              "</div>\n",
              "    <div class=\"colab-df-buttons\">\n",
              "\n",
              "  <div class=\"colab-df-container\">\n",
              "    <button class=\"colab-df-convert\" onclick=\"convertToInteractive('df-9a04e16d-926c-47d2-9fb4-771f300785fa')\"\n",
              "            title=\"Convert this dataframe to an interactive table.\"\n",
              "            style=\"display:none;\">\n",
              "\n",
              "  <svg xmlns=\"http://www.w3.org/2000/svg\" height=\"24px\" viewBox=\"0 -960 960 960\">\n",
              "    <path d=\"M120-120v-720h720v720H120Zm60-500h600v-160H180v160Zm220 220h160v-160H400v160Zm0 220h160v-160H400v160ZM180-400h160v-160H180v160Zm440 0h160v-160H620v160ZM180-180h160v-160H180v160Zm440 0h160v-160H620v160Z\"/>\n",
              "  </svg>\n",
              "    </button>\n",
              "\n",
              "  <style>\n",
              "    .colab-df-container {\n",
              "      display:flex;\n",
              "      gap: 12px;\n",
              "    }\n",
              "\n",
              "    .colab-df-convert {\n",
              "      background-color: #E8F0FE;\n",
              "      border: none;\n",
              "      border-radius: 50%;\n",
              "      cursor: pointer;\n",
              "      display: none;\n",
              "      fill: #1967D2;\n",
              "      height: 32px;\n",
              "      padding: 0 0 0 0;\n",
              "      width: 32px;\n",
              "    }\n",
              "\n",
              "    .colab-df-convert:hover {\n",
              "      background-color: #E2EBFA;\n",
              "      box-shadow: 0px 1px 2px rgba(60, 64, 67, 0.3), 0px 1px 3px 1px rgba(60, 64, 67, 0.15);\n",
              "      fill: #174EA6;\n",
              "    }\n",
              "\n",
              "    .colab-df-buttons div {\n",
              "      margin-bottom: 4px;\n",
              "    }\n",
              "\n",
              "    [theme=dark] .colab-df-convert {\n",
              "      background-color: #3B4455;\n",
              "      fill: #D2E3FC;\n",
              "    }\n",
              "\n",
              "    [theme=dark] .colab-df-convert:hover {\n",
              "      background-color: #434B5C;\n",
              "      box-shadow: 0px 1px 3px 1px rgba(0, 0, 0, 0.15);\n",
              "      filter: drop-shadow(0px 1px 2px rgba(0, 0, 0, 0.3));\n",
              "      fill: #FFFFFF;\n",
              "    }\n",
              "  </style>\n",
              "\n",
              "    <script>\n",
              "      const buttonEl =\n",
              "        document.querySelector('#df-9a04e16d-926c-47d2-9fb4-771f300785fa button.colab-df-convert');\n",
              "      buttonEl.style.display =\n",
              "        google.colab.kernel.accessAllowed ? 'block' : 'none';\n",
              "\n",
              "      async function convertToInteractive(key) {\n",
              "        const element = document.querySelector('#df-9a04e16d-926c-47d2-9fb4-771f300785fa');\n",
              "        const dataTable =\n",
              "          await google.colab.kernel.invokeFunction('convertToInteractive',\n",
              "                                                    [key], {});\n",
              "        if (!dataTable) return;\n",
              "\n",
              "        const docLinkHtml = 'Like what you see? Visit the ' +\n",
              "          '<a target=\"_blank\" href=https://colab.research.google.com/notebooks/data_table.ipynb>data table notebook</a>'\n",
              "          + ' to learn more about interactive tables.';\n",
              "        element.innerHTML = '';\n",
              "        dataTable['output_type'] = 'display_data';\n",
              "        await google.colab.output.renderOutput(dataTable, element);\n",
              "        const docLink = document.createElement('div');\n",
              "        docLink.innerHTML = docLinkHtml;\n",
              "        element.appendChild(docLink);\n",
              "      }\n",
              "    </script>\n",
              "  </div>\n",
              "\n",
              "\n",
              "<div id=\"df-47569627-ac4b-4e98-9bc4-08c7880bccef\">\n",
              "  <button class=\"colab-df-quickchart\" onclick=\"quickchart('df-47569627-ac4b-4e98-9bc4-08c7880bccef')\"\n",
              "            title=\"Suggest charts\"\n",
              "            style=\"display:none;\">\n",
              "\n",
              "<svg xmlns=\"http://www.w3.org/2000/svg\" height=\"24px\"viewBox=\"0 0 24 24\"\n",
              "     width=\"24px\">\n",
              "    <g>\n",
              "        <path d=\"M19 3H5c-1.1 0-2 .9-2 2v14c0 1.1.9 2 2 2h14c1.1 0 2-.9 2-2V5c0-1.1-.9-2-2-2zM9 17H7v-7h2v7zm4 0h-2V7h2v10zm4 0h-2v-4h2v4z\"/>\n",
              "    </g>\n",
              "</svg>\n",
              "  </button>\n",
              "\n",
              "<style>\n",
              "  .colab-df-quickchart {\n",
              "      --bg-color: #E8F0FE;\n",
              "      --fill-color: #1967D2;\n",
              "      --hover-bg-color: #E2EBFA;\n",
              "      --hover-fill-color: #174EA6;\n",
              "      --disabled-fill-color: #AAA;\n",
              "      --disabled-bg-color: #DDD;\n",
              "  }\n",
              "\n",
              "  [theme=dark] .colab-df-quickchart {\n",
              "      --bg-color: #3B4455;\n",
              "      --fill-color: #D2E3FC;\n",
              "      --hover-bg-color: #434B5C;\n",
              "      --hover-fill-color: #FFFFFF;\n",
              "      --disabled-bg-color: #3B4455;\n",
              "      --disabled-fill-color: #666;\n",
              "  }\n",
              "\n",
              "  .colab-df-quickchart {\n",
              "    background-color: var(--bg-color);\n",
              "    border: none;\n",
              "    border-radius: 50%;\n",
              "    cursor: pointer;\n",
              "    display: none;\n",
              "    fill: var(--fill-color);\n",
              "    height: 32px;\n",
              "    padding: 0;\n",
              "    width: 32px;\n",
              "  }\n",
              "\n",
              "  .colab-df-quickchart:hover {\n",
              "    background-color: var(--hover-bg-color);\n",
              "    box-shadow: 0 1px 2px rgba(60, 64, 67, 0.3), 0 1px 3px 1px rgba(60, 64, 67, 0.15);\n",
              "    fill: var(--button-hover-fill-color);\n",
              "  }\n",
              "\n",
              "  .colab-df-quickchart-complete:disabled,\n",
              "  .colab-df-quickchart-complete:disabled:hover {\n",
              "    background-color: var(--disabled-bg-color);\n",
              "    fill: var(--disabled-fill-color);\n",
              "    box-shadow: none;\n",
              "  }\n",
              "\n",
              "  .colab-df-spinner {\n",
              "    border: 2px solid var(--fill-color);\n",
              "    border-color: transparent;\n",
              "    border-bottom-color: var(--fill-color);\n",
              "    animation:\n",
              "      spin 1s steps(1) infinite;\n",
              "  }\n",
              "\n",
              "  @keyframes spin {\n",
              "    0% {\n",
              "      border-color: transparent;\n",
              "      border-bottom-color: var(--fill-color);\n",
              "      border-left-color: var(--fill-color);\n",
              "    }\n",
              "    20% {\n",
              "      border-color: transparent;\n",
              "      border-left-color: var(--fill-color);\n",
              "      border-top-color: var(--fill-color);\n",
              "    }\n",
              "    30% {\n",
              "      border-color: transparent;\n",
              "      border-left-color: var(--fill-color);\n",
              "      border-top-color: var(--fill-color);\n",
              "      border-right-color: var(--fill-color);\n",
              "    }\n",
              "    40% {\n",
              "      border-color: transparent;\n",
              "      border-right-color: var(--fill-color);\n",
              "      border-top-color: var(--fill-color);\n",
              "    }\n",
              "    60% {\n",
              "      border-color: transparent;\n",
              "      border-right-color: var(--fill-color);\n",
              "    }\n",
              "    80% {\n",
              "      border-color: transparent;\n",
              "      border-right-color: var(--fill-color);\n",
              "      border-bottom-color: var(--fill-color);\n",
              "    }\n",
              "    90% {\n",
              "      border-color: transparent;\n",
              "      border-bottom-color: var(--fill-color);\n",
              "    }\n",
              "  }\n",
              "</style>\n",
              "\n",
              "  <script>\n",
              "    async function quickchart(key) {\n",
              "      const quickchartButtonEl =\n",
              "        document.querySelector('#' + key + ' button');\n",
              "      quickchartButtonEl.disabled = true;  // To prevent multiple clicks.\n",
              "      quickchartButtonEl.classList.add('colab-df-spinner');\n",
              "      try {\n",
              "        const charts = await google.colab.kernel.invokeFunction(\n",
              "            'suggestCharts', [key], {});\n",
              "      } catch (error) {\n",
              "        console.error('Error during call to suggestCharts:', error);\n",
              "      }\n",
              "      quickchartButtonEl.classList.remove('colab-df-spinner');\n",
              "      quickchartButtonEl.classList.add('colab-df-quickchart-complete');\n",
              "    }\n",
              "    (() => {\n",
              "      let quickchartButtonEl =\n",
              "        document.querySelector('#df-47569627-ac4b-4e98-9bc4-08c7880bccef button');\n",
              "      quickchartButtonEl.style.display =\n",
              "        google.colab.kernel.accessAllowed ? 'block' : 'none';\n",
              "    })();\n",
              "  </script>\n",
              "</div>\n",
              "\n",
              "    </div>\n",
              "  </div>\n"
            ],
            "application/vnd.google.colaboratory.intrinsic+json": {
              "type": "dataframe",
              "variable_name": "real_test_data_sorted",
              "summary": "{\n  \"name\": \"real_test_data_sorted\",\n  \"rows\": 20,\n  \"fields\": [\n    {\n      \"column\": \"Unnamed: 0\",\n      \"properties\": {\n        \"dtype\": \"number\",\n        \"std\": 5,\n        \"min\": 0,\n        \"max\": 19,\n        \"num_unique_values\": 20,\n        \"samples\": [\n          0,\n          17,\n          15\n        ],\n        \"semantic_type\": \"\",\n        \"description\": \"\"\n      }\n    },\n    {\n      \"column\": \"Age\",\n      \"properties\": {\n        \"dtype\": \"number\",\n        \"std\": 10,\n        \"min\": 23,\n        \"max\": 63,\n        \"num_unique_values\": 16,\n        \"samples\": [\n          42,\n          55,\n          37\n        ],\n        \"semantic_type\": \"\",\n        \"description\": \"\"\n      }\n    },\n    {\n      \"column\": \"Review Text\",\n      \"properties\": {\n        \"dtype\": \"string\",\n        \"num_unique_values\": 20,\n        \"samples\": [\n          \"always attracted to wool for its warmth and breathability. this jacket has great style that can be casual or dressed up some. it is slightly more boxy then expected which i think lends to the casual look. find myself wearing it a lot.\",\n          \"i wish i had read the other review about the color of the pink version of this sweater before i ordered it. she was absolutely right  the color is completely different in person. it is this garish pink and brown that looks like it was knit together with remaindered yarn. it is too bad, because the cut of the sweater is cute and the zipper adds a funky touch. maybe the blue is better in person...\",\n          \"i looked at this dress for a long time before i purchased it because of the money. i wear a size 2p. was entirely disappointed in the style and construction of this dress. for one thing the lining is bulky and you could never wear it in warmer weather without burning up. the dress as pictured looks very feminine and light weight silk but there is just too much material going on thick and heavy. the overall fit was too big and very unflattering.\"\n        ],\n        \"semantic_type\": \"\",\n        \"description\": \"\"\n      }\n    },\n    {\n      \"column\": \"Rating\",\n      \"properties\": {\n        \"dtype\": \"number\",\n        \"std\": 1,\n        \"min\": 2,\n        \"max\": 5,\n        \"num_unique_values\": 4,\n        \"samples\": [\n          4,\n          2,\n          5\n        ],\n        \"semantic_type\": \"\",\n        \"description\": \"\"\n      }\n    },\n    {\n      \"column\": \"Recommended IND\",\n      \"properties\": {\n        \"dtype\": \"number\",\n        \"std\": 0,\n        \"min\": 0,\n        \"max\": 1,\n        \"num_unique_values\": 2,\n        \"samples\": [\n          0,\n          1\n        ],\n        \"semantic_type\": \"\",\n        \"description\": \"\"\n      }\n    },\n    {\n      \"column\": \"Positive Feedback Count\",\n      \"properties\": {\n        \"dtype\": \"number\",\n        \"std\": 3,\n        \"min\": 0,\n        \"max\": 15,\n        \"num_unique_values\": 6,\n        \"samples\": [\n          15,\n          1\n        ],\n        \"semantic_type\": \"\",\n        \"description\": \"\"\n      }\n    }\n  ]\n}"
            }
          },
          "metadata": {},
          "execution_count": 21
        }
      ]
    },
    {
      "cell_type": "code",
      "source": [
        "review_texts = real_test_data_sorted[\"Review Text\"].values\n",
        "\n",
        "encoded_reviews = [\n",
        "    torch.tensor(encode(review, train_vocabulary)).unsqueeze(0).to(device) for review in review_texts\n",
        "]\n",
        "\n",
        "print(\"Predictions for Test Reviews:\")\n",
        "with torch.no_grad():\n",
        "    for idx, review_tensor in enumerate(encoded_reviews):\n",
        "        output = model(review_tensor)\n",
        "        probability = torch.sigmoid(output).item()\n",
        "        prediction = int(probability > 0.5)\n",
        "        print(f\"\\nReview {idx+1}: {review_texts[idx]}\")\n",
        "        print(f\"Predicted probability: {probability:.4f}\")\n",
        "        print(f\"Predicted class (0: Not Recommended, 1: Recommended): {prediction}\")\n",
        "\n",
        "\n"
      ],
      "metadata": {
        "colab": {
          "base_uri": "https://localhost:8080/"
        },
        "id": "xQrGub-iyV8Q",
        "outputId": "94f73030-6e90-4c1b-b979-4eba75bcf687"
      },
      "execution_count": 22,
      "outputs": [
        {
          "output_type": "stream",
          "name": "stdout",
          "text": [
            "Predictions for Test Reviews:\n",
            "\n",
            "Review 1: always attracted to wool for its warmth and breathability. this jacket has great style that can be casual or dressed up some. it is slightly more boxy then expected which i think lends to the casual look. find myself wearing it a lot.\n",
            "Predicted probability: 0.9984\n",
            "Predicted class (0: Not Recommended, 1: Recommended): 1\n",
            "\n",
            "Review 2: unusual design and striking color make this the perfect dress this winter season. the fit is flattering and the design makes it perfect for work or play.\n",
            "Predicted probability: 0.9941\n",
            "Predicted class (0: Not Recommended, 1: Recommended): 1\n",
            "\n",
            "Review 3: expected them to fit somewhat loose but actually tight for a boyfriend fit. like a slightly relaxed skinny with a really low crotch. stretches everywhere when sitting and walking except the waistband. the distressing and fraying holes in good placement. wish there was some on the back of the leg but i have yet to find a pair that does that. good color and quality, but not quite worth full price. will probably look for them on sale later. i always prefer skinny jeans over boyfriend do it might bi\n",
            "Predicted probability: 0.0010\n",
            "Predicted class (0: Not Recommended, 1: Recommended): 0\n",
            "\n",
            "Review 4: love the cute print and texture of fabric. perfect casual tshirt.\n",
            "Predicted probability: 0.9247\n",
            "Predicted class (0: Not Recommended, 1: Recommended): 1\n",
            "\n",
            "Review 5: i got this in the green blue pink motif and i love it. really nice flow and not tent like at all. 58, 135, and in a size 6 i do not find this shows my stomach at all. it is really comfortable and i love the colors. i did get this in store at 15 off and i think it is a little pricy for a rayon shirt without the discount.\n",
            "Predicted probability: 0.9879\n",
            "Predicted class (0: Not Recommended, 1: Recommended): 1\n",
            "\n",
            "Review 6: this is a very flattering pencil skirt. i found it in the store and bought an xs, and have been wearing it to work. it is not too short, and the wrap fit looks great.\n",
            "Predicted probability: 0.9983\n",
            "Predicted class (0: Not Recommended, 1: Recommended): 1\n",
            "\n",
            "Review 7: i love this dress for day and night time. the back detail is cute and works well with a racerback bra. it runs big though. i am normally a small in dresses and the arm holes are too big in the size small on me. it was also generally too big all over. i like the length and the weight of the fabric. i purchased in the off black color.\n",
            "Predicted probability: 0.9990\n",
            "Predicted class (0: Not Recommended, 1: Recommended): 1\n",
            "\n",
            "Review 8: i love this dress! there are so many different looks you can get just by adjusting the straps or shoulders. the material is lightweight and flows with every turn. i ordered my usual size 10 and it fits perfectly. i did need a little assistance in getting the side zip to go up, but once it was on i did not want to take it off.\n",
            "Predicted probability: 0.9995\n",
            "Predicted class (0: Not Recommended, 1: Recommended): 1\n",
            "\n",
            "Review 9: i love this top so much that i ordered it in second color. it is shorter but still works with skirts and pants. the material is a fun texture. i did not have any problems with the arm holes, but this may be due to being less full in the bust area.\n",
            "Predicted probability: 0.9868\n",
            "Predicted class (0: Not Recommended, 1: Recommended): 1\n",
            "\n",
            "Review 10: i absolutely love this sweater. it is super soft and the greywhite version is lovely. it is definitely more cropped i am 57, but looks great with high waisted jeans or a pencil skirt. so cozy!\n",
            "Predicted probability: 0.9975\n",
            "Predicted class (0: Not Recommended, 1: Recommended): 1\n",
            "\n",
            "Review 11: this design looks really sharp on the image, but in reality this jacket felt more like a jacket you would get at forever xxi.  the fabric had that polyestershiny quality to it that made it look cheap.  since the fabric was pretty soft, with a gray jersey lining, it felt more like a padded jacket than a constructed blazer.  i also thought the cut was small if you have a bust larger than a b, i felt like i was busting out of a size 8, and i am a 34d.\n",
            "Predicted probability: 0.0003\n",
            "Predicted class (0: Not Recommended, 1: Recommended): 0\n",
            "\n",
            "Review 12: i love the back detail but does not feel that comfortable on. i bought in green. it is fitted so get size larger if you plan to layer up. i am 107 and bought xs size. i should have ordered the s.\n",
            "Predicted probability: 0.9972\n",
            "Predicted class (0: Not Recommended, 1: Recommended): 1\n",
            "\n",
            "Review 13: i love the pilcro serif legging jeans but these were a big disappointment. if you have any thigh at all do not bother.\n",
            "Predicted probability: 0.0165\n",
            "Predicted class (0: Not Recommended, 1: Recommended): 0\n",
            "\n",
            "Review 14: i probably should have gone with petite. this dress was just awful on. the waist was nowhere near where it was supposed to be. it hits me about thigh level. it is very unforgiving, clingy, and shows every bump. i found the material tolerable but if worn for long periods of time, i have a suspicion that it would begin to irritate my skin and be scratchy. it is going back.\n",
            "Predicted probability: 0.1414\n",
            "Predicted class (0: Not Recommended, 1: Recommended): 0\n",
            "\n",
            "Review 15: material is hard to wear a bra under it\n",
            "Predicted probability: 0.8140\n",
            "Predicted class (0: Not Recommended, 1: Recommended): 1\n",
            "\n",
            "Review 16: i looked at this dress for a long time before i purchased it because of the money. i wear a size 2p. was entirely disappointed in the style and construction of this dress. for one thing the lining is bulky and you could never wear it in warmer weather without burning up. the dress as pictured looks very feminine and light weight silk but there is just too much material going on thick and heavy. the overall fit was too big and very unflattering.\n",
            "Predicted probability: 0.0450\n",
            "Predicted class (0: Not Recommended, 1: Recommended): 0\n",
            "\n",
            "Review 17: i loved this top when i saw it online, and i still love the idea of it. unfortunately, the execution of the design fell short. i am 54 w a long lean torso. i ordered my usual small, and the arms on the shirt were so long! bc of the way the sides of the top cut up and my 34 d chest, i do not think a petite would work for me. such a cute top, but it just will not work for me.\n",
            "Predicted probability: 0.0016\n",
            "Predicted class (0: Not Recommended, 1: Recommended): 0\n",
            "\n",
            "Review 18: i wish i had read the other review about the color of the pink version of this sweater before i ordered it. she was absolutely right  the color is completely different in person. it is this garish pink and brown that looks like it was knit together with remaindered yarn. it is too bad, because the cut of the sweater is cute and the zipper adds a funky touch. maybe the blue is better in person...\n",
            "Predicted probability: 0.0025\n",
            "Predicted class (0: Not Recommended, 1: Recommended): 0\n",
            "\n",
            "Review 19: i bought this top in the blue motif and loved it so so very much until i washed it. it came out of the wash delicatecold cycle with 3 small holes. i am devastated because it was destined to be my favorite top for summer. it is flattering, lightweight, gorgeous color, cool raw edges, vback detail...i could go on and on about all the things i love about this top, but now it has holes after one washing so it is all for naught. doover please with better fabric qa.\n",
            "Predicted probability: 0.2023\n",
            "Predicted class (0: Not Recommended, 1: Recommended): 0\n",
            "\n",
            "Review 20: this is one of the best potential dresses i have seen from retailer, but it needs a doover. i am usually a 12 in this style of dress, but i sized up to a 16 the largest size and could not even button the top. even if i had been able to do so, i would have worn it as a tunic. i am 55 and the largest size would have been a racy mini skirt at best on me if worn as a dress. this dress is fit for only the tiniest and most smallbreasted of people. that said, if the company were to try again ne\n",
            "Predicted probability: 0.9895\n",
            "Predicted class (0: Not Recommended, 1: Recommended): 1\n"
          ]
        }
      ]
    }
  ]
}